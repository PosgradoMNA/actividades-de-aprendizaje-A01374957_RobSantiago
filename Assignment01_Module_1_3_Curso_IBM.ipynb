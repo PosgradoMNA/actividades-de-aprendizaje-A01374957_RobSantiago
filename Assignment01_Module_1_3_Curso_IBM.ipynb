{
  "metadata": {
    "language_info": {
      "codemirror_mode": {
        "name": "python",
        "version": 3
      },
      "file_extension": ".py",
      "mimetype": "text/x-python",
      "name": "python",
      "nbconvert_exporter": "python",
      "pygments_lexer": "ipython3",
      "version": "3.8"
    },
    "kernelspec": {
      "name": "python",
      "display_name": "Python (Pyodide)",
      "language": "python"
    },
    "colab": {
      "provenance": [],
      "toc_visible": true,
      "include_colab_link": true
    }
  },
  "nbformat_minor": 0,
  "nbformat": 4,
  "cells": [
    {
      "cell_type": "markdown",
      "metadata": {
        "id": "view-in-github",
        "colab_type": "text"
      },
      "source": [
        "<a href=\"https://colab.research.google.com/github/PosgradoMNA/actividades-de-aprendizaje-RobSantiago19/blob/main/Assignment01_Module_1_3_Curso_IBM.ipynb\" target=\"_parent\"><img src=\"https://colab.research.google.com/assets/colab-badge.svg\" alt=\"Open In Colab\"/></a>"
      ]
    },
    {
      "cell_type": "markdown",
      "source": [
        "## MODULE 1:"
      ],
      "metadata": {
        "id": "uf8_8vjLkaVd"
      }
    },
    {
      "cell_type": "code",
      "source": [
        "# Using the Practice Lab, find the result of executing print(\"Hello\\nWorld!\") statement:"
      ],
      "metadata": {
        "trusted": true,
        "id": "qR54Wev7kaVk"
      },
      "execution_count": null,
      "outputs": []
    },
    {
      "cell_type": "code",
      "source": [
        "print(\"Hello\\nWorld!\")"
      ],
      "metadata": {
        "trusted": true,
        "id": "JFzQnr6akaVn",
        "outputId": "44923af4-67a9-4b88-95ed-bf32c04d60ae"
      },
      "execution_count": null,
      "outputs": [
        {
          "name": "stdout",
          "text": "Hello\nWorld!\n",
          "output_type": "stream"
        }
      ]
    },
    {
      "cell_type": "code",
      "source": [
        "# What is the output of executing the following statement: print('Hello World!')?"
      ],
      "metadata": {
        "trusted": true,
        "id": "eMe6SAL4kaVo"
      },
      "execution_count": null,
      "outputs": []
    },
    {
      "cell_type": "code",
      "source": [
        "print('Hello World!')"
      ],
      "metadata": {
        "trusted": true,
        "id": "ytOsj8eSkaVp",
        "outputId": "7a501f75-2120-489b-bfae-21f777ba5082"
      },
      "execution_count": null,
      "outputs": [
        {
          "name": "stdout",
          "text": "Hello World!\n",
          "output_type": "stream"
        }
      ]
    },
    {
      "cell_type": "code",
      "source": [
        "# What is the type of the following: int(1.0)?"
      ],
      "metadata": {
        "trusted": true,
        "id": "G4h6RZW6kaVq"
      },
      "execution_count": null,
      "outputs": []
    },
    {
      "cell_type": "code",
      "source": [
        "# Answer: int "
      ],
      "metadata": {
        "trusted": true,
        "id": "FPxuIOaxkaVq"
      },
      "execution_count": null,
      "outputs": []
    },
    {
      "cell_type": "code",
      "source": [
        "# Enter the code to convert the number 1 to a Boolean:"
      ],
      "metadata": {
        "trusted": true,
        "id": "9rHnWTwTkaVr"
      },
      "execution_count": null,
      "outputs": []
    },
    {
      "cell_type": "code",
      "source": [
        "bool(1)"
      ],
      "metadata": {
        "trusted": true,
        "id": "uLiaKjTzkaVs",
        "outputId": "d127d4cb-5b3a-4f78-d528-0f7a604486f2"
      },
      "execution_count": null,
      "outputs": [
        {
          "execution_count": 10,
          "output_type": "execute_result",
          "data": {
            "text/plain": "True"
          },
          "metadata": {}
        }
      ]
    },
    {
      "cell_type": "code",
      "source": [
        "#Consider the following string:\n",
        "\n",
        "Numbers = \"0123456\"\n",
        "# How would you obtain the even elements?"
      ],
      "metadata": {
        "trusted": true,
        "id": "K6f0CJd9kaVt"
      },
      "execution_count": null,
      "outputs": []
    },
    {
      "cell_type": "code",
      "source": [
        "Numbers[::2]"
      ],
      "metadata": {
        "trusted": true,
        "id": "1h5y7nQIkaVv",
        "outputId": "38b4151a-b05e-411a-d7e4-8003b0e46894"
      },
      "execution_count": null,
      "outputs": [
        {
          "execution_count": 13,
          "output_type": "execute_result",
          "data": {
            "text/plain": "'0246'"
          },
          "metadata": {}
        }
      ]
    },
    {
      "cell_type": "code",
      "source": [
        "# What is the result of the following line of code:\n",
        "\n",
        "\"0123456\".find('1')"
      ],
      "metadata": {
        "trusted": true,
        "id": "LjSy6evPkaVw",
        "outputId": "11539382-0341-4565-f8d2-a407d99e54ef"
      },
      "execution_count": null,
      "outputs": [
        {
          "execution_count": 14,
          "output_type": "execute_result",
          "data": {
            "text/plain": "1"
          },
          "metadata": {}
        }
      ]
    },
    {
      "cell_type": "markdown",
      "source": [
        "## Review Questions Module 1:"
      ],
      "metadata": {
        "id": "gnLkQdcNkaVx"
      }
    },
    {
      "cell_type": "code",
      "source": [
        "# What is the result of the following operation in Python:\n",
        "\n",
        "3 + 2 * 2"
      ],
      "metadata": {
        "trusted": true,
        "id": "TnPMBeoZkaVx",
        "outputId": "48681301-e312-4dc6-93b9-8ac286a84e27"
      },
      "execution_count": null,
      "outputs": [
        {
          "execution_count": 16,
          "output_type": "execute_result",
          "data": {
            "text/plain": "7"
          },
          "metadata": {}
        }
      ]
    },
    {
      "cell_type": "code",
      "source": [
        "# In Python, if you executed name = 'Lizz', what would be the output of print(name[0:2])?"
      ],
      "metadata": {
        "trusted": true,
        "id": "X8jBC6f-kaVy"
      },
      "execution_count": null,
      "outputs": []
    },
    {
      "cell_type": "code",
      "source": [
        "name = \"Lizz\"\n",
        "print(name[0:2])"
      ],
      "metadata": {
        "trusted": true,
        "id": "Zed7jrQhkaVy",
        "outputId": "cfb08f8a-9039-4797-b689-4b61485ad96e"
      },
      "execution_count": null,
      "outputs": [
        {
          "name": "stdout",
          "text": "Li\n",
          "output_type": "stream"
        }
      ]
    },
    {
      "cell_type": "code",
      "source": [
        "# In Python, if you executed var = '01234567', what would be the result of print(var[::2])?"
      ],
      "metadata": {
        "trusted": true,
        "id": "BH8q5YVdkaVz"
      },
      "execution_count": null,
      "outputs": []
    },
    {
      "cell_type": "code",
      "source": [
        "var = \"01234567\"\n",
        "print(var[::2])"
      ],
      "metadata": {
        "trusted": true,
        "id": "1NycBQ_NkaVz",
        "outputId": "4e7928f0-02a8-4ce5-e0c8-c34f7124e4e2"
      },
      "execution_count": null,
      "outputs": [
        {
          "name": "stdout",
          "text": "0246\n",
          "output_type": "stream"
        }
      ]
    },
    {
      "cell_type": "code",
      "source": [
        "# In Python, what is the result of the following operation '1'+'2'?"
      ],
      "metadata": {
        "trusted": true,
        "id": "-rgBeFa1kaV0"
      },
      "execution_count": null,
      "outputs": []
    },
    {
      "cell_type": "code",
      "source": [
        "\"1\" + \"2\""
      ],
      "metadata": {
        "trusted": true,
        "id": "U6JlaxwxkaV0",
        "outputId": "f2a46019-5154-4e12-c71c-4105e7400e8d"
      },
      "execution_count": null,
      "outputs": [
        {
          "execution_count": 23,
          "output_type": "execute_result",
          "data": {
            "text/plain": "'12'"
          },
          "metadata": {}
        }
      ]
    },
    {
      "cell_type": "code",
      "source": [
        "# Given myvar = 'hello', how would you convert myvar into uppercase?"
      ],
      "metadata": {
        "trusted": true,
        "id": "2Yik6Ev2kaV1"
      },
      "execution_count": null,
      "outputs": []
    },
    {
      "cell_type": "code",
      "source": [
        "myvar = \"hello\"\n",
        "myvar.upper()"
      ],
      "metadata": {
        "trusted": true,
        "id": "wrs9xsyykaV2",
        "outputId": "49e3c095-030f-45f1-e712-f82e504426fd"
      },
      "execution_count": null,
      "outputs": [
        {
          "execution_count": 28,
          "output_type": "execute_result",
          "data": {
            "text/plain": "'HELLO'"
          },
          "metadata": {}
        }
      ]
    },
    {
      "cell_type": "markdown",
      "source": [
        "# MODULE 2:"
      ],
      "metadata": {
        "id": "R-kGHkfmkaV2"
      }
    },
    {
      "cell_type": "code",
      "source": [
        "# How do you access the last element of the following tuple: A=(0,1,2,3)? Select all possible correct answers:"
      ],
      "metadata": {
        "trusted": true,
        "id": "DglyDxHokaV3"
      },
      "execution_count": null,
      "outputs": []
    },
    {
      "cell_type": "code",
      "source": [
        "A = (0,1,2,3)\n",
        "A[3]"
      ],
      "metadata": {
        "trusted": true,
        "id": "Pj2ChpsVkaV3",
        "outputId": "d6b49c14-4808-4028-b7f1-8690aad92c7a"
      },
      "execution_count": null,
      "outputs": [
        {
          "execution_count": 30,
          "output_type": "execute_result",
          "data": {
            "text/plain": "3"
          },
          "metadata": {}
        }
      ]
    },
    {
      "cell_type": "code",
      "source": [
        "A[-1]"
      ],
      "metadata": {
        "trusted": true,
        "id": "RQlFPNHrkaV3",
        "outputId": "03e33a3f-87e8-4139-a5b3-e8bc54ca43d7"
      },
      "execution_count": null,
      "outputs": [
        {
          "execution_count": 31,
          "output_type": "execute_result",
          "data": {
            "text/plain": "3"
          },
          "metadata": {}
        }
      ]
    },
    {
      "cell_type": "code",
      "source": [
        "# Consider the list: \n",
        "\n",
        "B=[\"a\",\"b\",\"c\"]\n",
        "\n",
        "# What is the result of the following: \n",
        "B[1:]"
      ],
      "metadata": {
        "trusted": true,
        "id": "EhVHRgBlkaV4",
        "outputId": "2f446d02-561e-4e28-f954-b63af48a7567"
      },
      "execution_count": null,
      "outputs": [
        {
          "execution_count": 33,
          "output_type": "execute_result",
          "data": {
            "text/plain": "['b', 'c']"
          },
          "metadata": {}
        }
      ]
    },
    {
      "cell_type": "code",
      "source": [
        "# What is the result of the following lines of code:\n",
        "\n",
        "S={'A','B','C'}\n",
        "\n",
        "U={'A','Z','C'}\n",
        "\n",
        "U.union(S)"
      ],
      "metadata": {
        "trusted": true,
        "id": "qYLQWP89kaV4",
        "outputId": "ded14807-c124-4d45-f14e-86982083a16b"
      },
      "execution_count": null,
      "outputs": [
        {
          "execution_count": 35,
          "output_type": "execute_result",
          "data": {
            "text/plain": "{'A', 'B', 'C', 'Z'}"
          },
          "metadata": {}
        }
      ]
    },
    {
      "cell_type": "code",
      "source": [
        "# What is the intersection of set S and U?\n",
        "\n",
        "S={'A','B','C'}\n",
        "\n",
        "U={'A','Z','C'}\n",
        "\n",
        "# Respuesta --> {\"A\".\"C\"}"
      ],
      "metadata": {
        "trusted": true,
        "id": "INqF7JEvkaV4"
      },
      "execution_count": null,
      "outputs": []
    },
    {
      "cell_type": "code",
      "source": [
        "# Consider the following dictionary:\n",
        "\n",
        "D = {'a':0,'b':1,'c':2}\n",
        "\n",
        "# What is the result of the following:\n",
        "D.values()"
      ],
      "metadata": {
        "trusted": true,
        "id": "76CiatWWkaV5",
        "outputId": "978200e6-1589-47d2-a8ad-1be65b51cb7e"
      },
      "execution_count": null,
      "outputs": [
        {
          "execution_count": 40,
          "output_type": "execute_result",
          "data": {
            "text/plain": "dict_values([0, 1, 2])"
          },
          "metadata": {}
        }
      ]
    },
    {
      "cell_type": "code",
      "source": [
        "# Consider the following dictionary:\n",
        "\n",
        "D = {'a':0,'b':1,'c':2}\n",
        "# What is the output of the following:\n",
        "D['b']"
      ],
      "metadata": {
        "trusted": true,
        "id": "guLa5JNpkaV5",
        "outputId": "5c7bcd65-21d1-496b-a314-a146a8b81c7d"
      },
      "execution_count": null,
      "outputs": [
        {
          "execution_count": 41,
          "output_type": "execute_result",
          "data": {
            "text/plain": "1"
          },
          "metadata": {}
        }
      ]
    },
    {
      "cell_type": "markdown",
      "source": [
        "## Review Questions Module 2:"
      ],
      "metadata": {
        "id": "QoIVryzRkaV6"
      }
    },
    {
      "cell_type": "code",
      "source": [
        "# What is the syntax used to obtain the first element of the tuple:\n",
        "\n",
        "A = ('a','b','c')\n",
        "A [0]"
      ],
      "metadata": {
        "trusted": true,
        "id": "afkwXhtfkaV6",
        "outputId": "a61d29d2-2b32-4f33-a9a6-b86aec1deb09"
      },
      "execution_count": null,
      "outputs": [
        {
          "execution_count": 44,
          "output_type": "execute_result",
          "data": {
            "text/plain": "'a'"
          },
          "metadata": {}
        }
      ]
    },
    {
      "cell_type": "code",
      "source": [
        "# After applying the following method, L.append(['a','b']), the following list will only be one element longer:"
      ],
      "metadata": {
        "trusted": true,
        "id": "Nl4Q0xN-kaV7"
      },
      "execution_count": null,
      "outputs": []
    },
    {
      "cell_type": "code",
      "source": [
        "print(\"\\033[92m True, porque .append solo añade un elemento a l lista\")"
      ],
      "metadata": {
        "trusted": true,
        "id": "v9nuAt6xkaV7",
        "outputId": "6d6cb098-93e4-4b65-f613-de73cee3e9e3"
      },
      "execution_count": null,
      "outputs": [
        {
          "name": "stdout",
          "text": "\u001b[92m True, porque .append solo añade un elemento a l lista\n",
          "output_type": "stream"
        }
      ]
    },
    {
      "cell_type": "code",
      "source": [
        "# How many duplicate elements can you have in a set?"
      ],
      "metadata": {
        "trusted": true,
        "id": "qLFY5nC7kaV7"
      },
      "execution_count": null,
      "outputs": []
    },
    {
      "cell_type": "code",
      "source": [
        "print(\"\\033[92m Ninguno, todos los elementos de un set son únicos\")"
      ],
      "metadata": {
        "trusted": true,
        "id": "ZFAKWHgPkaV8",
        "outputId": "25750e26-d37d-4eca-f38d-edeee301ba8c"
      },
      "execution_count": null,
      "outputs": [
        {
          "name": "stdout",
          "text": "\u001b[92m Ninguno, todos los elementos de un set son únicos\n",
          "output_type": "stream"
        }
      ]
    },
    {
      "cell_type": "code",
      "source": [
        "# Consider the following Python dictionary:\n",
        "\n",
        "Dict={\"A\":1,\"B\":\"2\",\"C\":[3,3,3],\"D\":(4,4,4),'E':5,'F':6}\n",
        "\n",
        "# What is the result of the following operation: \n",
        "\n",
        "Dict[\"D\"]"
      ],
      "metadata": {
        "trusted": true,
        "id": "gw6IsJi4kaV8",
        "outputId": "78becf37-1591-4461-b842-3a74d48ef528"
      },
      "execution_count": null,
      "outputs": [
        {
          "execution_count": 57,
          "output_type": "execute_result",
          "data": {
            "text/plain": "(4, 4, 4)"
          },
          "metadata": {}
        }
      ]
    },
    {
      "cell_type": "code",
      "source": [
        "# What is an important difference between lists and tuples?\n",
        "print(\"\\033[92m Los listas son mutables y las tuplas no\")"
      ],
      "metadata": {
        "trusted": true,
        "id": "TzMUFkT9kaV8",
        "outputId": "eac42f65-110b-4811-e917-80e1e37620b0"
      },
      "execution_count": null,
      "outputs": [
        {
          "name": "stdout",
          "text": "\u001b[92m Los listas son mutables y las tuplas no\n",
          "output_type": "stream"
        }
      ]
    },
    {
      "cell_type": "markdown",
      "source": [
        "## MODULE 3:"
      ],
      "metadata": {
        "id": "fzt4UNjLkaV9"
      }
    },
    {
      "cell_type": "code",
      "source": [
        "age = 19\n",
        "if(age>18):\n",
        "    print(\"You can enter\")\n",
        "    \n",
        "elif(age==18):\n",
        "    print(\"go see Pink Floyd\")\n",
        "    \n",
        "else:\n",
        "    print(\"go see Cold Play\")\n",
        "    print(\"Move on\")"
      ],
      "metadata": {
        "trusted": true,
        "id": "XQkCJ3fEkaV9",
        "outputId": "ace95266-2137-4c73-ee4d-b52457ec948d"
      },
      "execution_count": null,
      "outputs": [
        {
          "name": "stdout",
          "text": "You can enter\n",
          "output_type": "stream"
        }
      ]
    },
    {
      "cell_type": "code",
      "source": [
        "# Select the values of i that produces a True for the following:\n",
        "\n",
        "i=1\n",
        "i!=0"
      ],
      "metadata": {
        "trusted": true,
        "id": "5zhZDIgAkaV_",
        "outputId": "c89437ce-920a-45f7-d2d9-514ec76af8cb"
      },
      "execution_count": null,
      "outputs": [
        {
          "execution_count": 85,
          "output_type": "execute_result",
          "data": {
            "text/plain": "True"
          },
          "metadata": {}
        }
      ]
    },
    {
      "cell_type": "code",
      "source": [
        "# What is the output of the following:\n",
        "\n",
        "x='a'\n",
        "\n",
        "if(x!='a'):\n",
        "\n",
        "    print(\"This is not a.\")\n",
        "\n",
        "else:\n",
        "\n",
        "    print(\"This is a.\")"
      ],
      "metadata": {
        "trusted": true,
        "id": "A5cQJDyPkaV_",
        "outputId": "5714bed1-7b1c-486c-9156-e0155f769edd"
      },
      "execution_count": null,
      "outputs": [
        {
          "name": "stdout",
          "text": "This is a.\n",
          "output_type": "stream"
        }
      ]
    },
    {
      "cell_type": "code",
      "source": [
        "# What is the output of the following lines of code:\n",
        "\n",
        "A=[3,4,5]\n",
        "\n",
        "for a in A:\n",
        "\n",
        "    print(a)"
      ],
      "metadata": {
        "trusted": true,
        "id": "D0GxsE2jkaV_",
        "outputId": "6088b1a7-45bb-4070-dc4c-2f40ae5148ca"
      },
      "execution_count": null,
      "outputs": [
        {
          "name": "stdout",
          "text": "3\n4\n5\n",
          "output_type": "stream"
        }
      ]
    },
    {
      "cell_type": "code",
      "source": [
        "# What is the output of the following lines of code:\n",
        "\n",
        "x = 3\n",
        "y = 1\n",
        "\n",
        "while(y!=x):\n",
        "    print(y)\n",
        "    y=y+1"
      ],
      "metadata": {
        "trusted": true,
        "id": "l7QSwcQ6kaWA",
        "outputId": "84435a07-c0b4-40c9-a888-b0d0efd3f62f"
      },
      "execution_count": null,
      "outputs": [
        {
          "name": "stdout",
          "text": "1\n2\n",
          "output_type": "stream"
        }
      ]
    },
    {
      "cell_type": "code",
      "source": [
        "album_ratings = [10.0,8.5,9.5,7.0,7.0,9.5,9.0,9.5]\n",
        "L=len(album_ratings)\n",
        "L"
      ],
      "metadata": {
        "trusted": true,
        "id": "3iduTAQhkaWA",
        "outputId": "44886e3d-c436-44f2-b892-afc034007cba"
      },
      "execution_count": null,
      "outputs": [
        {
          "execution_count": 4,
          "output_type": "execute_result",
          "data": {
            "text/plain": "8"
          },
          "metadata": {}
        }
      ]
    },
    {
      "cell_type": "code",
      "source": [
        "S=sum(album_ratings)\n",
        "S"
      ],
      "metadata": {
        "trusted": true,
        "id": "rQVhKoazkaWB",
        "outputId": "e3aee120-e76b-4213-bea8-4c757833d502"
      },
      "execution_count": null,
      "outputs": [
        {
          "execution_count": 5,
          "output_type": "execute_result",
          "data": {
            "text/plain": "70.0"
          },
          "metadata": {}
        }
      ]
    },
    {
      "cell_type": "code",
      "source": [
        "Sorted_album_ratings=sorted(album_ratings)\n",
        "Sorted_album_ratings"
      ],
      "metadata": {
        "trusted": true,
        "id": "3ABoK-MTkaWB",
        "outputId": "7eb77ded-2b62-4c11-b88c-e7e40814ddfd"
      },
      "execution_count": null,
      "outputs": [
        {
          "execution_count": 6,
          "output_type": "execute_result",
          "data": {
            "text/plain": "[7.0, 7.0, 8.5, 9.0, 9.5, 9.5, 9.5, 10.0]"
          },
          "metadata": {}
        }
      ]
    },
    {
      "cell_type": "code",
      "source": [
        "album_ratings.sort()\n",
        "album_ratings"
      ],
      "metadata": {
        "trusted": true,
        "id": "8crDwZSlkaWC",
        "outputId": "37d64503-4e1c-43bf-bb43-9929762bbbf2"
      },
      "execution_count": null,
      "outputs": [
        {
          "execution_count": 8,
          "output_type": "execute_result",
          "data": {
            "text/plain": "[7.0, 7.0, 8.5, 9.0, 9.5, 9.5, 9.5, 10.0]"
          },
          "metadata": {}
        }
      ]
    },
    {
      "cell_type": "code",
      "source": [
        "# Creando mis propias funciones:"
      ],
      "metadata": {
        "trusted": true,
        "id": "AhbPUCnQkaWC"
      },
      "execution_count": null,
      "outputs": []
    },
    {
      "cell_type": "code",
      "source": [
        "def add1(a):\n",
        "    b=a+1\n",
        "    return b\n",
        "add1(7)"
      ],
      "metadata": {
        "trusted": true,
        "id": "v9YAieOlkaWD",
        "outputId": "09325576-3ff0-4126-b565-bd7b521ac4aa"
      },
      "execution_count": null,
      "outputs": [
        {
          "execution_count": 12,
          "output_type": "execute_result",
          "data": {
            "text/plain": "8"
          },
          "metadata": {}
        }
      ]
    },
    {
      "cell_type": "code",
      "source": [
        "C=add1(18)\n",
        "C"
      ],
      "metadata": {
        "trusted": true,
        "id": "Y_U0wNIGkaWD",
        "outputId": "0cb5aed1-251b-4949-f302-42a86f910c6e"
      },
      "execution_count": null,
      "outputs": [
        {
          "execution_count": 13,
          "output_type": "execute_result",
          "data": {
            "text/plain": "19"
          },
          "metadata": {}
        }
      ]
    },
    {
      "cell_type": "code",
      "source": [],
      "metadata": {
        "id": "-nBQb5QZkaWE"
      },
      "execution_count": null,
      "outputs": []
    },
    {
      "cell_type": "code",
      "source": [],
      "metadata": {
        "id": "Pw0P3XlVkaWE"
      },
      "execution_count": null,
      "outputs": []
    },
    {
      "cell_type": "code",
      "source": [
        "def add1(a):\n",
        "    \"\"\"\n",
        "    add 1 to a\n",
        "    \"\"\"\n",
        "    b=a+1\n",
        "    return b\n",
        "add1(7)"
      ],
      "metadata": {
        "trusted": true,
        "id": "z5n6V6j3kaWE",
        "outputId": "02e8b32a-229c-4f3e-8500-bd0d3712550f"
      },
      "execution_count": null,
      "outputs": [
        {
          "execution_count": 17,
          "output_type": "execute_result",
          "data": {
            "text/plain": "8"
          },
          "metadata": {}
        }
      ]
    },
    {
      "cell_type": "code",
      "source": [
        "help(add1)"
      ],
      "metadata": {
        "trusted": true,
        "id": "I8Lq-TWCkaWE",
        "outputId": "96089e1f-7930-4b3d-bbba-34051481f5b8"
      },
      "execution_count": null,
      "outputs": [
        {
          "name": "stdout",
          "text": "Help on function add1 in module __main__:\n\nadd1(a)\n    add 1 to a\n\n",
          "output_type": "stream"
        }
      ]
    },
    {
      "cell_type": "code",
      "source": [
        "def Mult(a,b):\n",
        "    c=a*b\n",
        "    return c\n",
        "Mult(5,9)"
      ],
      "metadata": {
        "trusted": true,
        "id": "uNeNFA4TkaWF",
        "outputId": "d37e18ed-9776-4639-c265-2713ca67d7ae"
      },
      "execution_count": null,
      "outputs": [
        {
          "execution_count": 2,
          "output_type": "execute_result",
          "data": {
            "text/plain": "45"
          },
          "metadata": {}
        }
      ]
    },
    {
      "cell_type": "code",
      "source": [
        "Mult(8,32.53)"
      ],
      "metadata": {
        "trusted": true,
        "id": "28w1JAktkaWF",
        "outputId": "432d664d-1f27-4205-a515-8b7ca84b507f"
      },
      "execution_count": null,
      "outputs": [
        {
          "execution_count": 3,
          "output_type": "execute_result",
          "data": {
            "text/plain": "260.24"
          },
          "metadata": {}
        }
      ]
    },
    {
      "cell_type": "code",
      "source": [
        "def NoWork():\n",
        "    pass\n",
        "print(NoWork())"
      ],
      "metadata": {
        "trusted": true,
        "id": "l2VKHT9jkaWF",
        "outputId": "691ccb1b-0eb9-417c-c1d7-0e53660a5898"
      },
      "execution_count": null,
      "outputs": [
        {
          "name": "stdout",
          "text": "None\n",
          "output_type": "stream"
        }
      ]
    },
    {
      "cell_type": "code",
      "source": [
        "def printStuff(Stuff):\n",
        "    for i,s in enumerate(Stuff):\n",
        "        print(\"Album\", i, \"rating is\", s)\n",
        "album_ratings=[10.0,8.5,9.5]\n",
        "printStuff(album_ratings)"
      ],
      "metadata": {
        "trusted": true,
        "id": "H2OUVbY0kaWG",
        "outputId": "c6c77d3a-ee92-47eb-af82-6182ec496b46"
      },
      "execution_count": null,
      "outputs": [
        {
          "name": "stdout",
          "text": "Album 0 rating is 10.0\nAlbum 1 rating is 8.5\nAlbum 2 rating is 9.5\n",
          "output_type": "stream"
        }
      ]
    },
    {
      "cell_type": "code",
      "source": [
        "# What is the value of c after the following block of code is run ?\n",
        "\n",
        "a=1\n",
        "\n",
        "def add(b):\n",
        "\n",
        "    return a+b\n",
        "\n",
        "c=add(10)\n",
        "c"
      ],
      "metadata": {
        "trusted": true,
        "id": "H7DSTv58kaWG",
        "outputId": "2acb5ee3-2814-4269-b97c-81c97a64c8fe"
      },
      "execution_count": null,
      "outputs": [
        {
          "execution_count": 11,
          "output_type": "execute_result",
          "data": {
            "text/plain": "11"
          },
          "metadata": {}
        }
      ]
    },
    {
      "cell_type": "code",
      "source": [
        "# What is the value of c after the following block of code is run with proper numerical input?\n",
        "\n",
        "def f(*x):\n",
        "\n",
        "    return sum(x)\n",
        "# Respuesta --> Return the total of a variable amount of parameters."
      ],
      "metadata": {
        "trusted": true,
        "id": "Ci_goe27kaWH"
      },
      "execution_count": null,
      "outputs": []
    },
    {
      "cell_type": "code",
      "source": [
        "# Using the Class Car in the lab, create a Car object with the following attributes:\n",
        "\n",
        "make=\"Honda\"\n",
        "\n",
        "model=\"Accord\"\n",
        "\n",
        "color=\"blue\"\n",
        "\n",
        "class Car(object):\n",
        "    def __init__(self,make,model,color):\n",
        "        self.make=make;\n",
        "        self.model=model;\n",
        "        self.color=color;\n",
        "        self.owner_number=0 \n",
        "    def car_info(self):\n",
        "        print(\"make: \",self.make)\n",
        "        print(\"model:\", self.model)\n",
        "        print(\"color:\",self.color)\n",
        "        print(\"number of owners:\",self.owner_number)\n",
        "    def sell(self):\n",
        "        self.owner_number=self.owner_number+1\n",
        "        \n",
        "my_car = Car(make,model,color)"
      ],
      "metadata": {
        "trusted": true,
        "id": "sLR9PMbXkaWH"
      },
      "execution_count": null,
      "outputs": []
    },
    {
      "cell_type": "code",
      "source": [
        "my_car.make"
      ],
      "metadata": {
        "trusted": true,
        "id": "fohvMvjlkaWH",
        "outputId": "58ac4230-f995-475e-88df-e0473c8e19e8"
      },
      "execution_count": null,
      "outputs": [
        {
          "execution_count": 18,
          "output_type": "execute_result",
          "data": {
            "text/plain": "'Honda'"
          },
          "metadata": {}
        }
      ]
    },
    {
      "cell_type": "code",
      "source": [
        "my_car.model"
      ],
      "metadata": {
        "trusted": true,
        "id": "5pU3gYvjkaWH",
        "outputId": "bccd29c2-9e93-43c2-fe4c-58f3ff4521b8"
      },
      "execution_count": null,
      "outputs": [
        {
          "execution_count": 19,
          "output_type": "execute_result",
          "data": {
            "text/plain": "'Accord'"
          },
          "metadata": {}
        }
      ]
    },
    {
      "cell_type": "code",
      "source": [
        "my_car.color"
      ],
      "metadata": {
        "trusted": true,
        "id": "j4xqWge6kaWI",
        "outputId": "a598128d-336c-4f54-d68c-5e2ca46febb5"
      },
      "execution_count": null,
      "outputs": [
        {
          "execution_count": 20,
          "output_type": "execute_result",
          "data": {
            "text/plain": "'blue'"
          },
          "metadata": {}
        }
      ]
    },
    {
      "cell_type": "code",
      "source": [
        "# From the lab, how would you change the data attribute owner_number ?\n",
        "# Respuesta ---> Utilising the method sell()."
      ],
      "metadata": {
        "trusted": true,
        "id": "WQ4bVI5CkaWI"
      },
      "execution_count": null,
      "outputs": []
    },
    {
      "cell_type": "markdown",
      "source": [
        "## Review Questions Module 3:"
      ],
      "metadata": {
        "id": "0hafFwx7kaWI"
      }
    },
    {
      "cell_type": "code",
      "source": [
        "# What is the output of the following lines of code:\n",
        "\n",
        "x=1\n",
        "\n",
        "if(x!=1):\n",
        "\n",
        "    print('Hello')\n",
        "\n",
        "else:\n",
        "\n",
        "    print('Hi')\n",
        "\n",
        "print('Mike')"
      ],
      "metadata": {
        "trusted": true,
        "id": "uhPmneOYkaWI",
        "outputId": "b7f923fa-1acd-4c58-d6a7-4fee440710c4"
      },
      "execution_count": null,
      "outputs": [
        {
          "name": "stdout",
          "text": "Hi\nMike\n",
          "output_type": "stream"
        }
      ]
    },
    {
      "cell_type": "code",
      "source": [
        "# What is the output of the following few lines of code?\n",
        "\n",
        "A = ['1','2','3']\n",
        "\n",
        "for a in A:\n",
        "\n",
        "    print(2*a)"
      ],
      "metadata": {
        "trusted": true,
        "id": "QwixzaHGkaWJ",
        "outputId": "151da25c-5b62-49dd-aaf8-25a1a9127cf4"
      },
      "execution_count": null,
      "outputs": [
        {
          "name": "stdout",
          "text": "11\n22\n33\n",
          "output_type": "stream"
        }
      ]
    },
    {
      "cell_type": "code",
      "source": [
        "# Consider the function Delta, when will the function return a value of 1\n",
        "\n",
        "def Delta(x):\n",
        "\n",
        "    if x==0:\n",
        "\n",
        "        y=1;\n",
        "\n",
        "    else:\n",
        "    \n",
        "        y=0;\n",
        "\n",
        "    return(y)\n",
        "# Respuesta ----> Cuando el input es 0"
      ],
      "metadata": {
        "trusted": true,
        "id": "c2d95EkAkaWJ"
      },
      "execution_count": null,
      "outputs": []
    },
    {
      "cell_type": "code",
      "source": [
        "# What is the correct way to sort the list 'B' using a method? The result should not return a new list, just change the list 'B'.\n",
        "    # Respuesta ---> Con B.sort()"
      ],
      "metadata": {
        "trusted": true,
        "id": "dDOnXd9YkaWJ"
      },
      "execution_count": null,
      "outputs": []
    },
    {
      "cell_type": "code",
      "source": [
        "# What are the keys of the following dictionary: {'a':1,'b':2}?\n",
        "    # Respuesta ---> \"a\" y\"b\""
      ],
      "metadata": {
        "id": "fWhay_C8kaWJ"
      },
      "execution_count": null,
      "outputs": []
    }
  ]
}