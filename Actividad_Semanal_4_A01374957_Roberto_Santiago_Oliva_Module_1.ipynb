{
  "metadata": {
    "anaconda-cloud": {},
    "kernelspec": {
      "name": "python",
      "display_name": "Python (Pyodide)",
      "language": "python"
    },
    "language_info": {
      "codemirror_mode": {
        "name": "python",
        "version": 3
      },
      "file_extension": ".py",
      "mimetype": "text/x-python",
      "name": "python",
      "nbconvert_exporter": "python",
      "pygments_lexer": "ipython3",
      "version": "3.8"
    },
    "colab": {
      "provenance": [],
      "collapsed_sections": [],
      "include_colab_link": true
    }
  },
  "nbformat_minor": 0,
  "nbformat": 4,
  "cells": [
    {
      "cell_type": "markdown",
      "metadata": {
        "id": "view-in-github",
        "colab_type": "text"
      },
      "source": [
        "<a href=\"https://colab.research.google.com/github/PosgradoMNA/actividades-de-aprendizaje-A01374957_RobSantiago/blob/main/Actividad_Semanal_4_A01374957_Roberto_Santiago_Oliva_Module_1.ipynb\" target=\"_parent\"><img src=\"https://colab.research.google.com/assets/colab-badge.svg\" alt=\"Open In Colab\"/></a>"
      ]
    },
    {
      "cell_type": "markdown",
      "source": [
        "## ROBERTO SANTIAGO OLIVA - A01374957\n",
        " # MODULE 1\n",
        "\n",
        "\n",
        " <li>Data source: <a href=\"https://archive.ics.uci.edu/ml/machine-learning-databases/autos/imports-85.data?utm_medium=Exinfluencer&utm_source=Exinfluencer&utm_content=000026UJ&utm_term=10006555&utm_id=NA-SkillsNetwork-Channel-SkillsNetworkCoursesIBMDeveloperSkillsNetworkDA0101ENSkillsNetwork20235326-2021-01-01\" target=\"_blank\">https://archive.ics.uci.edu/ml/machine-learning-databases/autos/imports-85.data\n"
      ],
      "metadata": {
        "id": "qnouTo2tWNXy"
      }
    },
    {
      "cell_type": "markdown",
      "source": [
        "![Progress.PNG](data:image/png;base64,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)"
      ],
      "metadata": {
        "id": "4k1QtjtsWNX5"
      }
    },
    {
      "cell_type": "code",
      "source": [
        "#Importamos lo necesario:\n",
        "import piplite\n",
        "import micropip\n",
        "await piplite.install(['pandas'])\n",
        "await piplite.install(['matplotlib'])\n",
        "await piplite.install(['scipy'])\n",
        "await piplite.install(['seaborn'])\n",
        "await micropip.install(['ipywidgets'],keep_going=True)\n",
        "await micropip.install(['tqdm'],keep_going=True)"
      ],
      "metadata": {
        "trusted": true,
        "id": "u6xnwKrPWNX6"
      },
      "execution_count": null,
      "outputs": []
    },
    {
      "cell_type": "code",
      "source": [
        "#Instalamos la version específica\n",
        "#! mamba install pandas==1.3.3  -y\n",
        "#! mamba install numpy=1.21.2 -y"
      ],
      "metadata": {
        "trusted": true,
        "id": "tul9AbHlWNX9"
      },
      "execution_count": null,
      "outputs": []
    },
    {
      "cell_type": "code",
      "source": [
        "import pandas as pd\n",
        "import numpy as np"
      ],
      "metadata": {
        "trusted": true,
        "id": "WmxfbcqaWNX_"
      },
      "execution_count": null,
      "outputs": []
    },
    {
      "cell_type": "code",
      "source": [
        "from pyodide.http import pyfetch\n",
        "\n",
        "async def download(url, filename):\n",
        "    response = await pyfetch(url)\n",
        "    if response.status == 200:\n",
        "        with open(filename, \"wb\") as f:\n",
        "            f.write(await response.bytes())"
      ],
      "metadata": {
        "trusted": true,
        "id": "zFQA8dEqWNYA"
      },
      "execution_count": null,
      "outputs": []
    },
    {
      "cell_type": "code",
      "source": [
        "path = \"https://cf-courses-data.s3.us.cloud-object-storage.appdomain.cloud/IBMDeveloperSkillsNetwork-DA0101EN-SkillsNetwork/labs/Data%20files/auto.csv\""
      ],
      "metadata": {
        "trusted": true,
        "id": "AIy25KAWWNYD"
      },
      "execution_count": null,
      "outputs": []
    },
    {
      "cell_type": "markdown",
      "source": [
        "you will need to download the dataset; if you are running locally, please comment out the following\n"
      ],
      "metadata": {
        "id": "NEDxbrF6WNYE"
      }
    },
    {
      "cell_type": "code",
      "source": [
        "#you will need to download the dataset; if you are running locally, please comment out the following \n",
        "await download(path, \"auto.csv\")\n",
        "path=\"auto.csv\""
      ],
      "metadata": {
        "trusted": true,
        "id": "jrpwIO1GWNYF"
      },
      "execution_count": null,
      "outputs": []
    },
    {
      "cell_type": "markdown",
      "source": [
        "This dataset was hosted on IBM Cloud object. Click <a href=\"https://cocl.us/DA101EN_object_storage?utm_medium=Exinfluencer&utm_source=Exinfluencer&utm_content=000026UJ&utm_term=10006555&utm_id=NA-SkillsNetwork-Channel-SkillsNetworkCoursesIBMDeveloperSkillsNetworkDA0101ENSkillsNetwork20235326-2021-01-01\">HERE</a> for free storage.\n"
      ],
      "metadata": {
        "id": "YUD9XYD_WNYG"
      }
    },
    {
      "cell_type": "code",
      "source": [
        "# Import pandas library\n",
        "import pandas as pd\n",
        "\n",
        "# Read the online file by the URL provides above, and assign it to variable \"df\"\n",
        "\n",
        "df = pd.read_csv(path, header=None)"
      ],
      "metadata": {
        "trusted": true,
        "id": "ydUbSEP7WNYH"
      },
      "execution_count": null,
      "outputs": []
    },
    {
      "cell_type": "markdown",
      "source": [
        "After reading the dataset, we can use the <code>dataframe.head(n)</code> method to check the top n rows of the dataframe, where n is an integer. Contrary to <code>dataframe.head(n)</code>, <code>dataframe.tail(n)</code> will show you the bottom n rows of the dataframe.\n"
      ],
      "metadata": {
        "id": "e3GdogneWNYH"
      }
    },
    {
      "cell_type": "code",
      "source": [
        "# Mostramos las primeras cinco filas usando dataframe.head()\n",
        "print(\"The first 5 rows of the dataframe\") \n",
        "df.head(5)"
      ],
      "metadata": {
        "trusted": true,
        "id": "NZP3R6qqWNYI",
        "outputId": "6d2cc7ad-4dd9-4778-982a-3cb0701d2bf6"
      },
      "execution_count": null,
      "outputs": [
        {
          "name": "stdout",
          "text": "The first 5 rows of the dataframe\n",
          "output_type": "stream"
        },
        {
          "execution_count": 12,
          "output_type": "execute_result",
          "data": {
            "text/plain": "   0    1            2    3    4     5            6    7      8     9   ...  \\\n0   3    ?  alfa-romero  gas  std   two  convertible  rwd  front  88.6  ...   \n1   3    ?  alfa-romero  gas  std   two  convertible  rwd  front  88.6  ...   \n2   1    ?  alfa-romero  gas  std   two    hatchback  rwd  front  94.5  ...   \n3   2  164         audi  gas  std  four        sedan  fwd  front  99.8  ...   \n4   2  164         audi  gas  std  four        sedan  4wd  front  99.4  ...   \n\n    16    17    18    19    20   21    22  23  24     25  \n0  130  mpfi  3.47  2.68   9.0  111  5000  21  27  13495  \n1  130  mpfi  3.47  2.68   9.0  111  5000  21  27  16500  \n2  152  mpfi  2.68  3.47   9.0  154  5000  19  26  16500  \n3  109  mpfi  3.19  3.40  10.0  102  5500  24  30  13950  \n4  136  mpfi  3.19  3.40   8.0  115  5500  18  22  17450  \n\n[5 rows x 26 columns]",
            "text/html": "<div>\n<style scoped>\n    .dataframe tbody tr th:only-of-type {\n        vertical-align: middle;\n    }\n\n    .dataframe tbody tr th {\n        vertical-align: top;\n    }\n\n    .dataframe thead th {\n        text-align: right;\n    }\n</style>\n<table border=\"1\" class=\"dataframe\">\n  <thead>\n    <tr style=\"text-align: right;\">\n      <th></th>\n      <th>0</th>\n      <th>1</th>\n      <th>2</th>\n      <th>3</th>\n      <th>4</th>\n      <th>5</th>\n      <th>6</th>\n      <th>7</th>\n      <th>8</th>\n      <th>9</th>\n      <th>...</th>\n      <th>16</th>\n      <th>17</th>\n      <th>18</th>\n      <th>19</th>\n      <th>20</th>\n      <th>21</th>\n      <th>22</th>\n      <th>23</th>\n      <th>24</th>\n      <th>25</th>\n    </tr>\n  </thead>\n  <tbody>\n    <tr>\n      <th>0</th>\n      <td>3</td>\n      <td>?</td>\n      <td>alfa-romero</td>\n      <td>gas</td>\n      <td>std</td>\n      <td>two</td>\n      <td>convertible</td>\n      <td>rwd</td>\n      <td>front</td>\n      <td>88.6</td>\n      <td>...</td>\n      <td>130</td>\n      <td>mpfi</td>\n      <td>3.47</td>\n      <td>2.68</td>\n      <td>9.0</td>\n      <td>111</td>\n      <td>5000</td>\n      <td>21</td>\n      <td>27</td>\n      <td>13495</td>\n    </tr>\n    <tr>\n      <th>1</th>\n      <td>3</td>\n      <td>?</td>\n      <td>alfa-romero</td>\n      <td>gas</td>\n      <td>std</td>\n      <td>two</td>\n      <td>convertible</td>\n      <td>rwd</td>\n      <td>front</td>\n      <td>88.6</td>\n      <td>...</td>\n      <td>130</td>\n      <td>mpfi</td>\n      <td>3.47</td>\n      <td>2.68</td>\n      <td>9.0</td>\n      <td>111</td>\n      <td>5000</td>\n      <td>21</td>\n      <td>27</td>\n      <td>16500</td>\n    </tr>\n    <tr>\n      <th>2</th>\n      <td>1</td>\n      <td>?</td>\n      <td>alfa-romero</td>\n      <td>gas</td>\n      <td>std</td>\n      <td>two</td>\n      <td>hatchback</td>\n      <td>rwd</td>\n      <td>front</td>\n      <td>94.5</td>\n      <td>...</td>\n      <td>152</td>\n      <td>mpfi</td>\n      <td>2.68</td>\n      <td>3.47</td>\n      <td>9.0</td>\n      <td>154</td>\n      <td>5000</td>\n      <td>19</td>\n      <td>26</td>\n      <td>16500</td>\n    </tr>\n    <tr>\n      <th>3</th>\n      <td>2</td>\n      <td>164</td>\n      <td>audi</td>\n      <td>gas</td>\n      <td>std</td>\n      <td>four</td>\n      <td>sedan</td>\n      <td>fwd</td>\n      <td>front</td>\n      <td>99.8</td>\n      <td>...</td>\n      <td>109</td>\n      <td>mpfi</td>\n      <td>3.19</td>\n      <td>3.40</td>\n      <td>10.0</td>\n      <td>102</td>\n      <td>5500</td>\n      <td>24</td>\n      <td>30</td>\n      <td>13950</td>\n    </tr>\n    <tr>\n      <th>4</th>\n      <td>2</td>\n      <td>164</td>\n      <td>audi</td>\n      <td>gas</td>\n      <td>std</td>\n      <td>four</td>\n      <td>sedan</td>\n      <td>4wd</td>\n      <td>front</td>\n      <td>99.4</td>\n      <td>...</td>\n      <td>136</td>\n      <td>mpfi</td>\n      <td>3.19</td>\n      <td>3.40</td>\n      <td>8.0</td>\n      <td>115</td>\n      <td>5500</td>\n      <td>18</td>\n      <td>22</td>\n      <td>17450</td>\n    </tr>\n  </tbody>\n</table>\n<p>5 rows × 26 columns</p>\n</div>"
          },
          "metadata": {}
        }
      ]
    },
    {
      "cell_type": "markdown",
      "source": [
        "<div class=\"alert alert-danger alertdanger\" style=\"margin-top: 20px\">\n",
        "<h1> Question #1: </h1>\n",
        "<b>Check the bottom 10 rows of data frame \"df\".</b>\n",
        "</div>\n"
      ],
      "metadata": {
        "id": "0jAN2aadWNYK"
      }
    },
    {
      "cell_type": "code",
      "source": [
        "# Write your code below and press Shift+Enter to execute \n",
        "print(\"Las últimas 10 filas del dataframe\\n\")\n",
        "df.tail(10)"
      ],
      "metadata": {
        "trusted": true,
        "id": "NuU0Roz0WNYL",
        "outputId": "0fc665d7-a4ce-4a04-baaa-ce936f161ae5"
      },
      "execution_count": null,
      "outputs": [
        {
          "name": "stdout",
          "text": "Las últimas 10 filas del dataframe\n\n",
          "output_type": "stream"
        },
        {
          "execution_count": 13,
          "output_type": "execute_result",
          "data": {
            "text/plain": "     0    1      2       3      4     5      6    7      8      9   ...   16  \\\n195  -1   74  volvo     gas    std  four  wagon  rwd  front  104.3  ...  141   \n196  -2  103  volvo     gas    std  four  sedan  rwd  front  104.3  ...  141   \n197  -1   74  volvo     gas    std  four  wagon  rwd  front  104.3  ...  141   \n198  -2  103  volvo     gas  turbo  four  sedan  rwd  front  104.3  ...  130   \n199  -1   74  volvo     gas  turbo  four  wagon  rwd  front  104.3  ...  130   \n200  -1   95  volvo     gas    std  four  sedan  rwd  front  109.1  ...  141   \n201  -1   95  volvo     gas  turbo  four  sedan  rwd  front  109.1  ...  141   \n202  -1   95  volvo     gas    std  four  sedan  rwd  front  109.1  ...  173   \n203  -1   95  volvo  diesel  turbo  four  sedan  rwd  front  109.1  ...  145   \n204  -1   95  volvo     gas  turbo  four  sedan  rwd  front  109.1  ...  141   \n\n       17    18    19    20   21    22  23  24     25  \n195  mpfi  3.78  3.15   9.5  114  5400  23  28  13415  \n196  mpfi  3.78  3.15   9.5  114  5400  24  28  15985  \n197  mpfi  3.78  3.15   9.5  114  5400  24  28  16515  \n198  mpfi  3.62  3.15   7.5  162  5100  17  22  18420  \n199  mpfi  3.62  3.15   7.5  162  5100  17  22  18950  \n200  mpfi  3.78  3.15   9.5  114  5400  23  28  16845  \n201  mpfi  3.78  3.15   8.7  160  5300  19  25  19045  \n202  mpfi  3.58  2.87   8.8  134  5500  18  23  21485  \n203   idi  3.01  3.40  23.0  106  4800  26  27  22470  \n204  mpfi  3.78  3.15   9.5  114  5400  19  25  22625  \n\n[10 rows x 26 columns]",
            "text/html": "<div>\n<style scoped>\n    .dataframe tbody tr th:only-of-type {\n        vertical-align: middle;\n    }\n\n    .dataframe tbody tr th {\n        vertical-align: top;\n    }\n\n    .dataframe thead th {\n        text-align: right;\n    }\n</style>\n<table border=\"1\" class=\"dataframe\">\n  <thead>\n    <tr style=\"text-align: right;\">\n      <th></th>\n      <th>0</th>\n      <th>1</th>\n      <th>2</th>\n      <th>3</th>\n      <th>4</th>\n      <th>5</th>\n      <th>6</th>\n      <th>7</th>\n      <th>8</th>\n      <th>9</th>\n      <th>...</th>\n      <th>16</th>\n      <th>17</th>\n      <th>18</th>\n      <th>19</th>\n      <th>20</th>\n      <th>21</th>\n      <th>22</th>\n      <th>23</th>\n      <th>24</th>\n      <th>25</th>\n    </tr>\n  </thead>\n  <tbody>\n    <tr>\n      <th>195</th>\n      <td>-1</td>\n      <td>74</td>\n      <td>volvo</td>\n      <td>gas</td>\n      <td>std</td>\n      <td>four</td>\n      <td>wagon</td>\n      <td>rwd</td>\n      <td>front</td>\n      <td>104.3</td>\n      <td>...</td>\n      <td>141</td>\n      <td>mpfi</td>\n      <td>3.78</td>\n      <td>3.15</td>\n      <td>9.5</td>\n      <td>114</td>\n      <td>5400</td>\n      <td>23</td>\n      <td>28</td>\n      <td>13415</td>\n    </tr>\n    <tr>\n      <th>196</th>\n      <td>-2</td>\n      <td>103</td>\n      <td>volvo</td>\n      <td>gas</td>\n      <td>std</td>\n      <td>four</td>\n      <td>sedan</td>\n      <td>rwd</td>\n      <td>front</td>\n      <td>104.3</td>\n      <td>...</td>\n      <td>141</td>\n      <td>mpfi</td>\n      <td>3.78</td>\n      <td>3.15</td>\n      <td>9.5</td>\n      <td>114</td>\n      <td>5400</td>\n      <td>24</td>\n      <td>28</td>\n      <td>15985</td>\n    </tr>\n    <tr>\n      <th>197</th>\n      <td>-1</td>\n      <td>74</td>\n      <td>volvo</td>\n      <td>gas</td>\n      <td>std</td>\n      <td>four</td>\n      <td>wagon</td>\n      <td>rwd</td>\n      <td>front</td>\n      <td>104.3</td>\n      <td>...</td>\n      <td>141</td>\n      <td>mpfi</td>\n      <td>3.78</td>\n      <td>3.15</td>\n      <td>9.5</td>\n      <td>114</td>\n      <td>5400</td>\n      <td>24</td>\n      <td>28</td>\n      <td>16515</td>\n    </tr>\n    <tr>\n      <th>198</th>\n      <td>-2</td>\n      <td>103</td>\n      <td>volvo</td>\n      <td>gas</td>\n      <td>turbo</td>\n      <td>four</td>\n      <td>sedan</td>\n      <td>rwd</td>\n      <td>front</td>\n      <td>104.3</td>\n      <td>...</td>\n      <td>130</td>\n      <td>mpfi</td>\n      <td>3.62</td>\n      <td>3.15</td>\n      <td>7.5</td>\n      <td>162</td>\n      <td>5100</td>\n      <td>17</td>\n      <td>22</td>\n      <td>18420</td>\n    </tr>\n    <tr>\n      <th>199</th>\n      <td>-1</td>\n      <td>74</td>\n      <td>volvo</td>\n      <td>gas</td>\n      <td>turbo</td>\n      <td>four</td>\n      <td>wagon</td>\n      <td>rwd</td>\n      <td>front</td>\n      <td>104.3</td>\n      <td>...</td>\n      <td>130</td>\n      <td>mpfi</td>\n      <td>3.62</td>\n      <td>3.15</td>\n      <td>7.5</td>\n      <td>162</td>\n      <td>5100</td>\n      <td>17</td>\n      <td>22</td>\n      <td>18950</td>\n    </tr>\n    <tr>\n      <th>200</th>\n      <td>-1</td>\n      <td>95</td>\n      <td>volvo</td>\n      <td>gas</td>\n      <td>std</td>\n      <td>four</td>\n      <td>sedan</td>\n      <td>rwd</td>\n      <td>front</td>\n      <td>109.1</td>\n      <td>...</td>\n      <td>141</td>\n      <td>mpfi</td>\n      <td>3.78</td>\n      <td>3.15</td>\n      <td>9.5</td>\n      <td>114</td>\n      <td>5400</td>\n      <td>23</td>\n      <td>28</td>\n      <td>16845</td>\n    </tr>\n    <tr>\n      <th>201</th>\n      <td>-1</td>\n      <td>95</td>\n      <td>volvo</td>\n      <td>gas</td>\n      <td>turbo</td>\n      <td>four</td>\n      <td>sedan</td>\n      <td>rwd</td>\n      <td>front</td>\n      <td>109.1</td>\n      <td>...</td>\n      <td>141</td>\n      <td>mpfi</td>\n      <td>3.78</td>\n      <td>3.15</td>\n      <td>8.7</td>\n      <td>160</td>\n      <td>5300</td>\n      <td>19</td>\n      <td>25</td>\n      <td>19045</td>\n    </tr>\n    <tr>\n      <th>202</th>\n      <td>-1</td>\n      <td>95</td>\n      <td>volvo</td>\n      <td>gas</td>\n      <td>std</td>\n      <td>four</td>\n      <td>sedan</td>\n      <td>rwd</td>\n      <td>front</td>\n      <td>109.1</td>\n      <td>...</td>\n      <td>173</td>\n      <td>mpfi</td>\n      <td>3.58</td>\n      <td>2.87</td>\n      <td>8.8</td>\n      <td>134</td>\n      <td>5500</td>\n      <td>18</td>\n      <td>23</td>\n      <td>21485</td>\n    </tr>\n    <tr>\n      <th>203</th>\n      <td>-1</td>\n      <td>95</td>\n      <td>volvo</td>\n      <td>diesel</td>\n      <td>turbo</td>\n      <td>four</td>\n      <td>sedan</td>\n      <td>rwd</td>\n      <td>front</td>\n      <td>109.1</td>\n      <td>...</td>\n      <td>145</td>\n      <td>idi</td>\n      <td>3.01</td>\n      <td>3.40</td>\n      <td>23.0</td>\n      <td>106</td>\n      <td>4800</td>\n      <td>26</td>\n      <td>27</td>\n      <td>22470</td>\n    </tr>\n    <tr>\n      <th>204</th>\n      <td>-1</td>\n      <td>95</td>\n      <td>volvo</td>\n      <td>gas</td>\n      <td>turbo</td>\n      <td>four</td>\n      <td>sedan</td>\n      <td>rwd</td>\n      <td>front</td>\n      <td>109.1</td>\n      <td>...</td>\n      <td>141</td>\n      <td>mpfi</td>\n      <td>3.78</td>\n      <td>3.15</td>\n      <td>9.5</td>\n      <td>114</td>\n      <td>5400</td>\n      <td>19</td>\n      <td>25</td>\n      <td>22625</td>\n    </tr>\n  </tbody>\n</table>\n<p>10 rows × 26 columns</p>\n</div>"
          },
          "metadata": {}
        }
      ]
    },
    {
      "cell_type": "markdown",
      "source": [
        "<h3>Add Headers</h3>\n",
        "<p>\n",
        "Take a look at our dataset. Pandas automatically set the header with an integer starting from 0.\n",
        "</p>\n",
        "<p>\n",
        "To better describe our data, we can introduce a header. This information is available at:  <a href=\"https://archive.ics.uci.edu/ml/datasets/Automobile?utm_medium=Exinfluencer&utm_source=Exinfluencer&utm_content=000026UJ&utm_term=10006555&utm_id=NA-SkillsNetwork-Channel-SkillsNetworkCoursesIBMDeveloperSkillsNetworkDA0101ENSkillsNetwork20235326-2021-01-01\" target=\"_blank\">https://archive.ics.uci.edu/ml/datasets/Automobile</a>.\n",
        "</p>\n",
        "<p>\n",
        "Thus, we have to add headers manually.\n",
        "</p>\n",
        "<p>\n",
        "First, we create a list \"headers\" that include all column names in order.\n",
        "Then, we use <code>dataframe.columns = headers</code> to replace the headers with the list we created.\n",
        "</p>\n"
      ],
      "metadata": {
        "id": "6e6VhlwFWNYM"
      }
    },
    {
      "cell_type": "code",
      "source": [
        "# create headers list\n",
        "headers = [\"symboling\",\"normalized-losses\",\"make\",\"fuel-type\",\"aspiration\", \"num-of-doors\",\"body-style\",\n",
        "         \"drive-wheels\",\"engine-location\",\"wheel-base\", \"length\",\"width\",\"height\",\"curb-weight\",\"engine-type\",\n",
        "         \"num-of-cylinders\", \"engine-size\",\"fuel-system\",\"bore\",\"stroke\",\"compression-ratio\",\"horsepower\",\n",
        "         \"peak-rpm\",\"city-mpg\",\"highway-mpg\",\"price\"]\n",
        "print(\"headers\\n\", headers)"
      ],
      "metadata": {
        "trusted": true,
        "id": "q4gsACUAWNYN",
        "outputId": "c827cf18-04a4-46ed-f74c-7e9a134535eb"
      },
      "execution_count": null,
      "outputs": [
        {
          "name": "stdout",
          "text": "headers\n ['symboling', 'normalized-losses', 'make', 'fuel-type', 'aspiration', 'num-of-doors', 'body-style', 'drive-wheels', 'engine-location', 'wheel-base', 'length', 'width', 'height', 'curb-weight', 'engine-type', 'num-of-cylinders', 'engine-size', 'fuel-system', 'bore', 'stroke', 'compression-ratio', 'horsepower', 'peak-rpm', 'city-mpg', 'highway-mpg', 'price']\n",
          "output_type": "stream"
        }
      ]
    },
    {
      "cell_type": "markdown",
      "source": [
        "We replace headers and recheck our dataframe:\n"
      ],
      "metadata": {
        "id": "_7hK8FPxWNYN"
      }
    },
    {
      "cell_type": "code",
      "source": [
        "df.columns = headers\n",
        "df.head(10)"
      ],
      "metadata": {
        "trusted": true,
        "id": "IAZSnqT1WNYO",
        "outputId": "44a59f6e-ce9a-43b9-b8d5-28024b563ae3"
      },
      "execution_count": null,
      "outputs": [
        {
          "execution_count": 15,
          "output_type": "execute_result",
          "data": {
            "text/plain": "   symboling normalized-losses         make fuel-type aspiration num-of-doors  \\\n0          3                 ?  alfa-romero       gas        std          two   \n1          3                 ?  alfa-romero       gas        std          two   \n2          1                 ?  alfa-romero       gas        std          two   \n3          2               164         audi       gas        std         four   \n4          2               164         audi       gas        std         four   \n5          2                 ?         audi       gas        std          two   \n6          1               158         audi       gas        std         four   \n7          1                 ?         audi       gas        std         four   \n8          1               158         audi       gas      turbo         four   \n9          0                 ?         audi       gas      turbo          two   \n\n    body-style drive-wheels engine-location  wheel-base  ...  engine-size  \\\n0  convertible          rwd           front        88.6  ...          130   \n1  convertible          rwd           front        88.6  ...          130   \n2    hatchback          rwd           front        94.5  ...          152   \n3        sedan          fwd           front        99.8  ...          109   \n4        sedan          4wd           front        99.4  ...          136   \n5        sedan          fwd           front        99.8  ...          136   \n6        sedan          fwd           front       105.8  ...          136   \n7        wagon          fwd           front       105.8  ...          136   \n8        sedan          fwd           front       105.8  ...          131   \n9    hatchback          4wd           front        99.5  ...          131   \n\n   fuel-system  bore  stroke compression-ratio horsepower  peak-rpm city-mpg  \\\n0         mpfi  3.47    2.68               9.0        111      5000       21   \n1         mpfi  3.47    2.68               9.0        111      5000       21   \n2         mpfi  2.68    3.47               9.0        154      5000       19   \n3         mpfi  3.19    3.40              10.0        102      5500       24   \n4         mpfi  3.19    3.40               8.0        115      5500       18   \n5         mpfi  3.19    3.40               8.5        110      5500       19   \n6         mpfi  3.19    3.40               8.5        110      5500       19   \n7         mpfi  3.19    3.40               8.5        110      5500       19   \n8         mpfi  3.13    3.40               8.3        140      5500       17   \n9         mpfi  3.13    3.40               7.0        160      5500       16   \n\n  highway-mpg  price  \n0          27  13495  \n1          27  16500  \n2          26  16500  \n3          30  13950  \n4          22  17450  \n5          25  15250  \n6          25  17710  \n7          25  18920  \n8          20  23875  \n9          22      ?  \n\n[10 rows x 26 columns]",
            "text/html": "<div>\n<style scoped>\n    .dataframe tbody tr th:only-of-type {\n        vertical-align: middle;\n    }\n\n    .dataframe tbody tr th {\n        vertical-align: top;\n    }\n\n    .dataframe thead th {\n        text-align: right;\n    }\n</style>\n<table border=\"1\" class=\"dataframe\">\n  <thead>\n    <tr style=\"text-align: right;\">\n      <th></th>\n      <th>symboling</th>\n      <th>normalized-losses</th>\n      <th>make</th>\n      <th>fuel-type</th>\n      <th>aspiration</th>\n      <th>num-of-doors</th>\n      <th>body-style</th>\n      <th>drive-wheels</th>\n      <th>engine-location</th>\n      <th>wheel-base</th>\n      <th>...</th>\n      <th>engine-size</th>\n      <th>fuel-system</th>\n      <th>bore</th>\n      <th>stroke</th>\n      <th>compression-ratio</th>\n      <th>horsepower</th>\n      <th>peak-rpm</th>\n      <th>city-mpg</th>\n      <th>highway-mpg</th>\n      <th>price</th>\n    </tr>\n  </thead>\n  <tbody>\n    <tr>\n      <th>0</th>\n      <td>3</td>\n      <td>?</td>\n      <td>alfa-romero</td>\n      <td>gas</td>\n      <td>std</td>\n      <td>two</td>\n      <td>convertible</td>\n      <td>rwd</td>\n      <td>front</td>\n      <td>88.6</td>\n      <td>...</td>\n      <td>130</td>\n      <td>mpfi</td>\n      <td>3.47</td>\n      <td>2.68</td>\n      <td>9.0</td>\n      <td>111</td>\n      <td>5000</td>\n      <td>21</td>\n      <td>27</td>\n      <td>13495</td>\n    </tr>\n    <tr>\n      <th>1</th>\n      <td>3</td>\n      <td>?</td>\n      <td>alfa-romero</td>\n      <td>gas</td>\n      <td>std</td>\n      <td>two</td>\n      <td>convertible</td>\n      <td>rwd</td>\n      <td>front</td>\n      <td>88.6</td>\n      <td>...</td>\n      <td>130</td>\n      <td>mpfi</td>\n      <td>3.47</td>\n      <td>2.68</td>\n      <td>9.0</td>\n      <td>111</td>\n      <td>5000</td>\n      <td>21</td>\n      <td>27</td>\n      <td>16500</td>\n    </tr>\n    <tr>\n      <th>2</th>\n      <td>1</td>\n      <td>?</td>\n      <td>alfa-romero</td>\n      <td>gas</td>\n      <td>std</td>\n      <td>two</td>\n      <td>hatchback</td>\n      <td>rwd</td>\n      <td>front</td>\n      <td>94.5</td>\n      <td>...</td>\n      <td>152</td>\n      <td>mpfi</td>\n      <td>2.68</td>\n      <td>3.47</td>\n      <td>9.0</td>\n      <td>154</td>\n      <td>5000</td>\n      <td>19</td>\n      <td>26</td>\n      <td>16500</td>\n    </tr>\n    <tr>\n      <th>3</th>\n      <td>2</td>\n      <td>164</td>\n      <td>audi</td>\n      <td>gas</td>\n      <td>std</td>\n      <td>four</td>\n      <td>sedan</td>\n      <td>fwd</td>\n      <td>front</td>\n      <td>99.8</td>\n      <td>...</td>\n      <td>109</td>\n      <td>mpfi</td>\n      <td>3.19</td>\n      <td>3.40</td>\n      <td>10.0</td>\n      <td>102</td>\n      <td>5500</td>\n      <td>24</td>\n      <td>30</td>\n      <td>13950</td>\n    </tr>\n    <tr>\n      <th>4</th>\n      <td>2</td>\n      <td>164</td>\n      <td>audi</td>\n      <td>gas</td>\n      <td>std</td>\n      <td>four</td>\n      <td>sedan</td>\n      <td>4wd</td>\n      <td>front</td>\n      <td>99.4</td>\n      <td>...</td>\n      <td>136</td>\n      <td>mpfi</td>\n      <td>3.19</td>\n      <td>3.40</td>\n      <td>8.0</td>\n      <td>115</td>\n      <td>5500</td>\n      <td>18</td>\n      <td>22</td>\n      <td>17450</td>\n    </tr>\n    <tr>\n      <th>5</th>\n      <td>2</td>\n      <td>?</td>\n      <td>audi</td>\n      <td>gas</td>\n      <td>std</td>\n      <td>two</td>\n      <td>sedan</td>\n      <td>fwd</td>\n      <td>front</td>\n      <td>99.8</td>\n      <td>...</td>\n      <td>136</td>\n      <td>mpfi</td>\n      <td>3.19</td>\n      <td>3.40</td>\n      <td>8.5</td>\n      <td>110</td>\n      <td>5500</td>\n      <td>19</td>\n      <td>25</td>\n      <td>15250</td>\n    </tr>\n    <tr>\n      <th>6</th>\n      <td>1</td>\n      <td>158</td>\n      <td>audi</td>\n      <td>gas</td>\n      <td>std</td>\n      <td>four</td>\n      <td>sedan</td>\n      <td>fwd</td>\n      <td>front</td>\n      <td>105.8</td>\n      <td>...</td>\n      <td>136</td>\n      <td>mpfi</td>\n      <td>3.19</td>\n      <td>3.40</td>\n      <td>8.5</td>\n      <td>110</td>\n      <td>5500</td>\n      <td>19</td>\n      <td>25</td>\n      <td>17710</td>\n    </tr>\n    <tr>\n      <th>7</th>\n      <td>1</td>\n      <td>?</td>\n      <td>audi</td>\n      <td>gas</td>\n      <td>std</td>\n      <td>four</td>\n      <td>wagon</td>\n      <td>fwd</td>\n      <td>front</td>\n      <td>105.8</td>\n      <td>...</td>\n      <td>136</td>\n      <td>mpfi</td>\n      <td>3.19</td>\n      <td>3.40</td>\n      <td>8.5</td>\n      <td>110</td>\n      <td>5500</td>\n      <td>19</td>\n      <td>25</td>\n      <td>18920</td>\n    </tr>\n    <tr>\n      <th>8</th>\n      <td>1</td>\n      <td>158</td>\n      <td>audi</td>\n      <td>gas</td>\n      <td>turbo</td>\n      <td>four</td>\n      <td>sedan</td>\n      <td>fwd</td>\n      <td>front</td>\n      <td>105.8</td>\n      <td>...</td>\n      <td>131</td>\n      <td>mpfi</td>\n      <td>3.13</td>\n      <td>3.40</td>\n      <td>8.3</td>\n      <td>140</td>\n      <td>5500</td>\n      <td>17</td>\n      <td>20</td>\n      <td>23875</td>\n    </tr>\n    <tr>\n      <th>9</th>\n      <td>0</td>\n      <td>?</td>\n      <td>audi</td>\n      <td>gas</td>\n      <td>turbo</td>\n      <td>two</td>\n      <td>hatchback</td>\n      <td>4wd</td>\n      <td>front</td>\n      <td>99.5</td>\n      <td>...</td>\n      <td>131</td>\n      <td>mpfi</td>\n      <td>3.13</td>\n      <td>3.40</td>\n      <td>7.0</td>\n      <td>160</td>\n      <td>5500</td>\n      <td>16</td>\n      <td>22</td>\n      <td>?</td>\n    </tr>\n  </tbody>\n</table>\n<p>10 rows × 26 columns</p>\n</div>"
          },
          "metadata": {}
        }
      ]
    },
    {
      "cell_type": "markdown",
      "source": [
        "We need to replace the \"?\" symbol with NaN so the dropna() can remove the missing values:\n"
      ],
      "metadata": {
        "id": "q9clciZuWNYO"
      }
    },
    {
      "cell_type": "code",
      "source": [
        "df1=df.replace('?',np.NaN)\n"
      ],
      "metadata": {
        "trusted": true,
        "id": "YQ_iNwVaWNYP"
      },
      "execution_count": null,
      "outputs": []
    },
    {
      "cell_type": "markdown",
      "source": [
        "We can drop missing values along the column \"price\" as follows:\n"
      ],
      "metadata": {
        "id": "f87cThVSWNYP"
      }
    },
    {
      "cell_type": "code",
      "source": [
        "df=df1.dropna(subset=[\"price\"], axis=0)\n",
        "df.head(20)"
      ],
      "metadata": {
        "trusted": true,
        "id": "F2uk9ka4WNYQ",
        "outputId": "94cc493f-64ca-4d4e-82ec-2fe4ebf93f15"
      },
      "execution_count": null,
      "outputs": [
        {
          "execution_count": 17,
          "output_type": "execute_result",
          "data": {
            "text/plain": "    symboling normalized-losses         make fuel-type aspiration  \\\n0           3               NaN  alfa-romero       gas        std   \n1           3               NaN  alfa-romero       gas        std   \n2           1               NaN  alfa-romero       gas        std   \n3           2               164         audi       gas        std   \n4           2               164         audi       gas        std   \n5           2               NaN         audi       gas        std   \n6           1               158         audi       gas        std   \n7           1               NaN         audi       gas        std   \n8           1               158         audi       gas      turbo   \n10          2               192          bmw       gas        std   \n11          0               192          bmw       gas        std   \n12          0               188          bmw       gas        std   \n13          0               188          bmw       gas        std   \n14          1               NaN          bmw       gas        std   \n15          0               NaN          bmw       gas        std   \n16          0               NaN          bmw       gas        std   \n17          0               NaN          bmw       gas        std   \n18          2               121    chevrolet       gas        std   \n19          1                98    chevrolet       gas        std   \n20          0                81    chevrolet       gas        std   \n\n   num-of-doors   body-style drive-wheels engine-location  wheel-base  ...  \\\n0           two  convertible          rwd           front        88.6  ...   \n1           two  convertible          rwd           front        88.6  ...   \n2           two    hatchback          rwd           front        94.5  ...   \n3          four        sedan          fwd           front        99.8  ...   \n4          four        sedan          4wd           front        99.4  ...   \n5           two        sedan          fwd           front        99.8  ...   \n6          four        sedan          fwd           front       105.8  ...   \n7          four        wagon          fwd           front       105.8  ...   \n8          four        sedan          fwd           front       105.8  ...   \n10          two        sedan          rwd           front       101.2  ...   \n11         four        sedan          rwd           front       101.2  ...   \n12          two        sedan          rwd           front       101.2  ...   \n13         four        sedan          rwd           front       101.2  ...   \n14         four        sedan          rwd           front       103.5  ...   \n15         four        sedan          rwd           front       103.5  ...   \n16          two        sedan          rwd           front       103.5  ...   \n17         four        sedan          rwd           front       110.0  ...   \n18          two    hatchback          fwd           front        88.4  ...   \n19          two    hatchback          fwd           front        94.5  ...   \n20         four        sedan          fwd           front        94.5  ...   \n\n    engine-size  fuel-system  bore  stroke compression-ratio horsepower  \\\n0           130         mpfi  3.47    2.68               9.0        111   \n1           130         mpfi  3.47    2.68               9.0        111   \n2           152         mpfi  2.68    3.47               9.0        154   \n3           109         mpfi  3.19    3.40              10.0        102   \n4           136         mpfi  3.19    3.40               8.0        115   \n5           136         mpfi  3.19    3.40               8.5        110   \n6           136         mpfi  3.19    3.40               8.5        110   \n7           136         mpfi  3.19    3.40               8.5        110   \n8           131         mpfi  3.13    3.40               8.3        140   \n10          108         mpfi  3.50    2.80               8.8        101   \n11          108         mpfi  3.50    2.80               8.8        101   \n12          164         mpfi  3.31    3.19               9.0        121   \n13          164         mpfi  3.31    3.19               9.0        121   \n14          164         mpfi  3.31    3.19               9.0        121   \n15          209         mpfi  3.62    3.39               8.0        182   \n16          209         mpfi  3.62    3.39               8.0        182   \n17          209         mpfi  3.62    3.39               8.0        182   \n18           61         2bbl  2.91    3.03               9.5         48   \n19           90         2bbl  3.03    3.11               9.6         70   \n20           90         2bbl  3.03    3.11               9.6         70   \n\n    peak-rpm city-mpg highway-mpg  price  \n0       5000       21          27  13495  \n1       5000       21          27  16500  \n2       5000       19          26  16500  \n3       5500       24          30  13950  \n4       5500       18          22  17450  \n5       5500       19          25  15250  \n6       5500       19          25  17710  \n7       5500       19          25  18920  \n8       5500       17          20  23875  \n10      5800       23          29  16430  \n11      5800       23          29  16925  \n12      4250       21          28  20970  \n13      4250       21          28  21105  \n14      4250       20          25  24565  \n15      5400       16          22  30760  \n16      5400       16          22  41315  \n17      5400       15          20  36880  \n18      5100       47          53   5151  \n19      5400       38          43   6295  \n20      5400       38          43   6575  \n\n[20 rows x 26 columns]",
            "text/html": "<div>\n<style scoped>\n    .dataframe tbody tr th:only-of-type {\n        vertical-align: middle;\n    }\n\n    .dataframe tbody tr th {\n        vertical-align: top;\n    }\n\n    .dataframe thead th {\n        text-align: right;\n    }\n</style>\n<table border=\"1\" class=\"dataframe\">\n  <thead>\n    <tr style=\"text-align: right;\">\n      <th></th>\n      <th>symboling</th>\n      <th>normalized-losses</th>\n      <th>make</th>\n      <th>fuel-type</th>\n      <th>aspiration</th>\n      <th>num-of-doors</th>\n      <th>body-style</th>\n      <th>drive-wheels</th>\n      <th>engine-location</th>\n      <th>wheel-base</th>\n      <th>...</th>\n      <th>engine-size</th>\n      <th>fuel-system</th>\n      <th>bore</th>\n      <th>stroke</th>\n      <th>compression-ratio</th>\n      <th>horsepower</th>\n      <th>peak-rpm</th>\n      <th>city-mpg</th>\n      <th>highway-mpg</th>\n      <th>price</th>\n    </tr>\n  </thead>\n  <tbody>\n    <tr>\n      <th>0</th>\n      <td>3</td>\n      <td>NaN</td>\n      <td>alfa-romero</td>\n      <td>gas</td>\n      <td>std</td>\n      <td>two</td>\n      <td>convertible</td>\n      <td>rwd</td>\n      <td>front</td>\n      <td>88.6</td>\n      <td>...</td>\n      <td>130</td>\n      <td>mpfi</td>\n      <td>3.47</td>\n      <td>2.68</td>\n      <td>9.0</td>\n      <td>111</td>\n      <td>5000</td>\n      <td>21</td>\n      <td>27</td>\n      <td>13495</td>\n    </tr>\n    <tr>\n      <th>1</th>\n      <td>3</td>\n      <td>NaN</td>\n      <td>alfa-romero</td>\n      <td>gas</td>\n      <td>std</td>\n      <td>two</td>\n      <td>convertible</td>\n      <td>rwd</td>\n      <td>front</td>\n      <td>88.6</td>\n      <td>...</td>\n      <td>130</td>\n      <td>mpfi</td>\n      <td>3.47</td>\n      <td>2.68</td>\n      <td>9.0</td>\n      <td>111</td>\n      <td>5000</td>\n      <td>21</td>\n      <td>27</td>\n      <td>16500</td>\n    </tr>\n    <tr>\n      <th>2</th>\n      <td>1</td>\n      <td>NaN</td>\n      <td>alfa-romero</td>\n      <td>gas</td>\n      <td>std</td>\n      <td>two</td>\n      <td>hatchback</td>\n      <td>rwd</td>\n      <td>front</td>\n      <td>94.5</td>\n      <td>...</td>\n      <td>152</td>\n      <td>mpfi</td>\n      <td>2.68</td>\n      <td>3.47</td>\n      <td>9.0</td>\n      <td>154</td>\n      <td>5000</td>\n      <td>19</td>\n      <td>26</td>\n      <td>16500</td>\n    </tr>\n    <tr>\n      <th>3</th>\n      <td>2</td>\n      <td>164</td>\n      <td>audi</td>\n      <td>gas</td>\n      <td>std</td>\n      <td>four</td>\n      <td>sedan</td>\n      <td>fwd</td>\n      <td>front</td>\n      <td>99.8</td>\n      <td>...</td>\n      <td>109</td>\n      <td>mpfi</td>\n      <td>3.19</td>\n      <td>3.40</td>\n      <td>10.0</td>\n      <td>102</td>\n      <td>5500</td>\n      <td>24</td>\n      <td>30</td>\n      <td>13950</td>\n    </tr>\n    <tr>\n      <th>4</th>\n      <td>2</td>\n      <td>164</td>\n      <td>audi</td>\n      <td>gas</td>\n      <td>std</td>\n      <td>four</td>\n      <td>sedan</td>\n      <td>4wd</td>\n      <td>front</td>\n      <td>99.4</td>\n      <td>...</td>\n      <td>136</td>\n      <td>mpfi</td>\n      <td>3.19</td>\n      <td>3.40</td>\n      <td>8.0</td>\n      <td>115</td>\n      <td>5500</td>\n      <td>18</td>\n      <td>22</td>\n      <td>17450</td>\n    </tr>\n    <tr>\n      <th>5</th>\n      <td>2</td>\n      <td>NaN</td>\n      <td>audi</td>\n      <td>gas</td>\n      <td>std</td>\n      <td>two</td>\n      <td>sedan</td>\n      <td>fwd</td>\n      <td>front</td>\n      <td>99.8</td>\n      <td>...</td>\n      <td>136</td>\n      <td>mpfi</td>\n      <td>3.19</td>\n      <td>3.40</td>\n      <td>8.5</td>\n      <td>110</td>\n      <td>5500</td>\n      <td>19</td>\n      <td>25</td>\n      <td>15250</td>\n    </tr>\n    <tr>\n      <th>6</th>\n      <td>1</td>\n      <td>158</td>\n      <td>audi</td>\n      <td>gas</td>\n      <td>std</td>\n      <td>four</td>\n      <td>sedan</td>\n      <td>fwd</td>\n      <td>front</td>\n      <td>105.8</td>\n      <td>...</td>\n      <td>136</td>\n      <td>mpfi</td>\n      <td>3.19</td>\n      <td>3.40</td>\n      <td>8.5</td>\n      <td>110</td>\n      <td>5500</td>\n      <td>19</td>\n      <td>25</td>\n      <td>17710</td>\n    </tr>\n    <tr>\n      <th>7</th>\n      <td>1</td>\n      <td>NaN</td>\n      <td>audi</td>\n      <td>gas</td>\n      <td>std</td>\n      <td>four</td>\n      <td>wagon</td>\n      <td>fwd</td>\n      <td>front</td>\n      <td>105.8</td>\n      <td>...</td>\n      <td>136</td>\n      <td>mpfi</td>\n      <td>3.19</td>\n      <td>3.40</td>\n      <td>8.5</td>\n      <td>110</td>\n      <td>5500</td>\n      <td>19</td>\n      <td>25</td>\n      <td>18920</td>\n    </tr>\n    <tr>\n      <th>8</th>\n      <td>1</td>\n      <td>158</td>\n      <td>audi</td>\n      <td>gas</td>\n      <td>turbo</td>\n      <td>four</td>\n      <td>sedan</td>\n      <td>fwd</td>\n      <td>front</td>\n      <td>105.8</td>\n      <td>...</td>\n      <td>131</td>\n      <td>mpfi</td>\n      <td>3.13</td>\n      <td>3.40</td>\n      <td>8.3</td>\n      <td>140</td>\n      <td>5500</td>\n      <td>17</td>\n      <td>20</td>\n      <td>23875</td>\n    </tr>\n    <tr>\n      <th>10</th>\n      <td>2</td>\n      <td>192</td>\n      <td>bmw</td>\n      <td>gas</td>\n      <td>std</td>\n      <td>two</td>\n      <td>sedan</td>\n      <td>rwd</td>\n      <td>front</td>\n      <td>101.2</td>\n      <td>...</td>\n      <td>108</td>\n      <td>mpfi</td>\n      <td>3.50</td>\n      <td>2.80</td>\n      <td>8.8</td>\n      <td>101</td>\n      <td>5800</td>\n      <td>23</td>\n      <td>29</td>\n      <td>16430</td>\n    </tr>\n    <tr>\n      <th>11</th>\n      <td>0</td>\n      <td>192</td>\n      <td>bmw</td>\n      <td>gas</td>\n      <td>std</td>\n      <td>four</td>\n      <td>sedan</td>\n      <td>rwd</td>\n      <td>front</td>\n      <td>101.2</td>\n      <td>...</td>\n      <td>108</td>\n      <td>mpfi</td>\n      <td>3.50</td>\n      <td>2.80</td>\n      <td>8.8</td>\n      <td>101</td>\n      <td>5800</td>\n      <td>23</td>\n      <td>29</td>\n      <td>16925</td>\n    </tr>\n    <tr>\n      <th>12</th>\n      <td>0</td>\n      <td>188</td>\n      <td>bmw</td>\n      <td>gas</td>\n      <td>std</td>\n      <td>two</td>\n      <td>sedan</td>\n      <td>rwd</td>\n      <td>front</td>\n      <td>101.2</td>\n      <td>...</td>\n      <td>164</td>\n      <td>mpfi</td>\n      <td>3.31</td>\n      <td>3.19</td>\n      <td>9.0</td>\n      <td>121</td>\n      <td>4250</td>\n      <td>21</td>\n      <td>28</td>\n      <td>20970</td>\n    </tr>\n    <tr>\n      <th>13</th>\n      <td>0</td>\n      <td>188</td>\n      <td>bmw</td>\n      <td>gas</td>\n      <td>std</td>\n      <td>four</td>\n      <td>sedan</td>\n      <td>rwd</td>\n      <td>front</td>\n      <td>101.2</td>\n      <td>...</td>\n      <td>164</td>\n      <td>mpfi</td>\n      <td>3.31</td>\n      <td>3.19</td>\n      <td>9.0</td>\n      <td>121</td>\n      <td>4250</td>\n      <td>21</td>\n      <td>28</td>\n      <td>21105</td>\n    </tr>\n    <tr>\n      <th>14</th>\n      <td>1</td>\n      <td>NaN</td>\n      <td>bmw</td>\n      <td>gas</td>\n      <td>std</td>\n      <td>four</td>\n      <td>sedan</td>\n      <td>rwd</td>\n      <td>front</td>\n      <td>103.5</td>\n      <td>...</td>\n      <td>164</td>\n      <td>mpfi</td>\n      <td>3.31</td>\n      <td>3.19</td>\n      <td>9.0</td>\n      <td>121</td>\n      <td>4250</td>\n      <td>20</td>\n      <td>25</td>\n      <td>24565</td>\n    </tr>\n    <tr>\n      <th>15</th>\n      <td>0</td>\n      <td>NaN</td>\n      <td>bmw</td>\n      <td>gas</td>\n      <td>std</td>\n      <td>four</td>\n      <td>sedan</td>\n      <td>rwd</td>\n      <td>front</td>\n      <td>103.5</td>\n      <td>...</td>\n      <td>209</td>\n      <td>mpfi</td>\n      <td>3.62</td>\n      <td>3.39</td>\n      <td>8.0</td>\n      <td>182</td>\n      <td>5400</td>\n      <td>16</td>\n      <td>22</td>\n      <td>30760</td>\n    </tr>\n    <tr>\n      <th>16</th>\n      <td>0</td>\n      <td>NaN</td>\n      <td>bmw</td>\n      <td>gas</td>\n      <td>std</td>\n      <td>two</td>\n      <td>sedan</td>\n      <td>rwd</td>\n      <td>front</td>\n      <td>103.5</td>\n      <td>...</td>\n      <td>209</td>\n      <td>mpfi</td>\n      <td>3.62</td>\n      <td>3.39</td>\n      <td>8.0</td>\n      <td>182</td>\n      <td>5400</td>\n      <td>16</td>\n      <td>22</td>\n      <td>41315</td>\n    </tr>\n    <tr>\n      <th>17</th>\n      <td>0</td>\n      <td>NaN</td>\n      <td>bmw</td>\n      <td>gas</td>\n      <td>std</td>\n      <td>four</td>\n      <td>sedan</td>\n      <td>rwd</td>\n      <td>front</td>\n      <td>110.0</td>\n      <td>...</td>\n      <td>209</td>\n      <td>mpfi</td>\n      <td>3.62</td>\n      <td>3.39</td>\n      <td>8.0</td>\n      <td>182</td>\n      <td>5400</td>\n      <td>15</td>\n      <td>20</td>\n      <td>36880</td>\n    </tr>\n    <tr>\n      <th>18</th>\n      <td>2</td>\n      <td>121</td>\n      <td>chevrolet</td>\n      <td>gas</td>\n      <td>std</td>\n      <td>two</td>\n      <td>hatchback</td>\n      <td>fwd</td>\n      <td>front</td>\n      <td>88.4</td>\n      <td>...</td>\n      <td>61</td>\n      <td>2bbl</td>\n      <td>2.91</td>\n      <td>3.03</td>\n      <td>9.5</td>\n      <td>48</td>\n      <td>5100</td>\n      <td>47</td>\n      <td>53</td>\n      <td>5151</td>\n    </tr>\n    <tr>\n      <th>19</th>\n      <td>1</td>\n      <td>98</td>\n      <td>chevrolet</td>\n      <td>gas</td>\n      <td>std</td>\n      <td>two</td>\n      <td>hatchback</td>\n      <td>fwd</td>\n      <td>front</td>\n      <td>94.5</td>\n      <td>...</td>\n      <td>90</td>\n      <td>2bbl</td>\n      <td>3.03</td>\n      <td>3.11</td>\n      <td>9.6</td>\n      <td>70</td>\n      <td>5400</td>\n      <td>38</td>\n      <td>43</td>\n      <td>6295</td>\n    </tr>\n    <tr>\n      <th>20</th>\n      <td>0</td>\n      <td>81</td>\n      <td>chevrolet</td>\n      <td>gas</td>\n      <td>std</td>\n      <td>four</td>\n      <td>sedan</td>\n      <td>fwd</td>\n      <td>front</td>\n      <td>94.5</td>\n      <td>...</td>\n      <td>90</td>\n      <td>2bbl</td>\n      <td>3.03</td>\n      <td>3.11</td>\n      <td>9.6</td>\n      <td>70</td>\n      <td>5400</td>\n      <td>38</td>\n      <td>43</td>\n      <td>6575</td>\n    </tr>\n  </tbody>\n</table>\n<p>20 rows × 26 columns</p>\n</div>"
          },
          "metadata": {}
        }
      ]
    },
    {
      "cell_type": "markdown",
      "source": [
        "Now, we have successfully read the raw dataset and added the correct headers into the dataframe.\n"
      ],
      "metadata": {
        "id": "yUtp84oxWNYR"
      }
    },
    {
      "cell_type": "markdown",
      "source": [
        " <div class=\"alert alert-danger alertdanger\" style=\"margin-top: 20px\">\n",
        "<h1> Question #2: </h1>\n",
        "<b>Find the name of the columns of the dataframe.</b>\n",
        "</div>\n"
      ],
      "metadata": {
        "id": "gwBNs4xTWNYR"
      }
    },
    {
      "cell_type": "code",
      "source": [
        "# Write your code below and press Shift+Enter to execute \n",
        "print(df.columns)"
      ],
      "metadata": {
        "trusted": true,
        "id": "kEFAapScWNYR",
        "outputId": "b045dcdd-8266-4f6d-8f60-4a104d75834f"
      },
      "execution_count": null,
      "outputs": [
        {
          "name": "stdout",
          "text": "Index(['symboling', 'normalized-losses', 'make', 'fuel-type', 'aspiration',\n       'num-of-doors', 'body-style', 'drive-wheels', 'engine-location',\n       'wheel-base', 'length', 'width', 'height', 'curb-weight', 'engine-type',\n       'num-of-cylinders', 'engine-size', 'fuel-system', 'bore', 'stroke',\n       'compression-ratio', 'horsepower', 'peak-rpm', 'city-mpg',\n       'highway-mpg', 'price'],\n      dtype='object')\n",
          "output_type": "stream"
        }
      ]
    },
    {
      "cell_type": "markdown",
      "source": [
        "<h2>Save Dataset</h2>\n",
        "<p>\n",
        "Correspondingly, Pandas enables us to save the dataset to csv. By using the <code>dataframe.to_csv()</code> method, you can add the file path and name along with quotation marks in the brackets.\n",
        "</p>\n",
        "<p>\n",
        "For example, if you would save the dataframe <b>df</b> as <b>automobile.csv</b> to your local machine, you may use the syntax below, where <code>index = False</code> means the row names will not be written.\n",
        "</p>\n"
      ],
      "metadata": {
        "id": "4T8fVArFWNYS"
      }
    },
    {
      "cell_type": "raw",
      "source": [
        "df.to_csv(\"automobile.csv\", index=False)"
      ],
      "metadata": {
        "id": "LMrEpOlHWNYS"
      }
    },
    {
      "cell_type": "markdown",
      "source": [
        "We can also read and save other file formats. We can use similar functions like **`pd.read_csv()`** and **`df.to_csv()`** for other data formats. The functions are listed in the following table:\n"
      ],
      "metadata": {
        "id": "HqveVpoEWNYT"
      }
    },
    {
      "cell_type": "markdown",
      "source": [
        "<h2>Read/Save Other Data Formats</h2>\n",
        "\n",
        "| Data Formate |        Read       |            Save |\n",
        "| ------------ | :---------------: | --------------: |\n",
        "| csv          |  `pd.read_csv()`  |   `df.to_csv()` |\n",
        "| json         |  `pd.read_json()` |  `df.to_json()` |\n",
        "| excel        | `pd.read_excel()` | `df.to_excel()` |\n",
        "| hdf          |  `pd.read_hdf()`  |   `df.to_hdf()` |\n",
        "| sql          |  `pd.read_sql()`  |   `df.to_sql()` |\n",
        "| ...          |        ...        |             ... |\n"
      ],
      "metadata": {
        "id": "5XsLj1ojWNYT"
      }
    },
    {
      "cell_type": "markdown",
      "source": [
        "<h1 id=\"basic_insight\">Basic Insight of Dataset</h1>\n",
        "<p>\n",
        "After reading data into Pandas dataframe, it is time for us to explore the dataset.<br>\n",
        "\n",
        "There are several ways to obtain essential insights of the data to help us better understand our dataset.\n",
        "\n",
        "</p>\n"
      ],
      "metadata": {
        "id": "8bNMNnnLWNYT"
      }
    },
    {
      "cell_type": "markdown",
      "source": [
        "<h2>Data Types</h2>\n",
        "<p>\n",
        "Data has a variety of types.<br>\n",
        "\n",
        "The main types stored in Pandas dataframes are <b>object</b>, <b>float</b>, <b>int</b>, <b>bool</b> and <b>datetime64</b>. In order to better learn about each attribute, it is always good for us to know the data type of each column. In Pandas:\n",
        "\n",
        "</p>\n"
      ],
      "metadata": {
        "id": "k4ghUsk8WNYT"
      }
    },
    {
      "cell_type": "code",
      "source": [
        "df.dtypes"
      ],
      "metadata": {
        "trusted": true,
        "id": "tLMPRnGWWNYU",
        "outputId": "b9709df8-fd78-42d8-b516-e2757ea31b32"
      },
      "execution_count": null,
      "outputs": [
        {
          "execution_count": 19,
          "output_type": "execute_result",
          "data": {
            "text/plain": "symboling              int64\nnormalized-losses     object\nmake                  object\nfuel-type             object\naspiration            object\nnum-of-doors          object\nbody-style            object\ndrive-wheels          object\nengine-location       object\nwheel-base           float64\nlength               float64\nwidth                float64\nheight               float64\ncurb-weight            int64\nengine-type           object\nnum-of-cylinders      object\nengine-size            int64\nfuel-system           object\nbore                  object\nstroke                object\ncompression-ratio    float64\nhorsepower            object\npeak-rpm              object\ncity-mpg               int64\nhighway-mpg            int64\nprice                 object\ndtype: object"
          },
          "metadata": {}
        }
      ]
    },
    {
      "cell_type": "markdown",
      "source": [
        "A series with the data type of each column is returned.\n"
      ],
      "metadata": {
        "id": "BOaF1zX1WNYU"
      }
    },
    {
      "cell_type": "code",
      "source": [
        "# check the data type of data frame \"df\" by .dtypes\n",
        "print(df.dtypes)"
      ],
      "metadata": {
        "trusted": true,
        "id": "BDSgiAULWNYU",
        "outputId": "0c2072f9-2753-4d81-8892-c9762e35a222"
      },
      "execution_count": null,
      "outputs": [
        {
          "name": "stdout",
          "text": "symboling              int64\nnormalized-losses     object\nmake                  object\nfuel-type             object\naspiration            object\nnum-of-doors          object\nbody-style            object\ndrive-wheels          object\nengine-location       object\nwheel-base           float64\nlength               float64\nwidth                float64\nheight               float64\ncurb-weight            int64\nengine-type           object\nnum-of-cylinders      object\nengine-size            int64\nfuel-system           object\nbore                  object\nstroke                object\ncompression-ratio    float64\nhorsepower            object\npeak-rpm              object\ncity-mpg               int64\nhighway-mpg            int64\nprice                 object\ndtype: object\n",
          "output_type": "stream"
        }
      ]
    },
    {
      "cell_type": "markdown",
      "source": [
        "<p>\n",
        "As shown above, it is clear to see that the data type of \"symboling\" and \"curb-weight\" are <code>int64</code>, \"normalized-losses\" is <code>object</code>, and \"wheel-base\" is <code>float64</code>, etc.\n",
        "</p>\n",
        "<p>\n",
        "These data types can be changed; we will learn how to accomplish this in a later module.\n",
        "</p>\n"
      ],
      "metadata": {
        "id": "WVVC3XkxWNYU"
      }
    },
    {
      "cell_type": "markdown",
      "source": [
        "<h2>Describe</h2>\n",
        "If we would like to get a statistical summary of each column e.g. count, column mean value, column standard deviation, etc., we use the describe method:\n"
      ],
      "metadata": {
        "id": "a_CvvcPBWNYV"
      }
    },
    {
      "cell_type": "raw",
      "source": [
        "dataframe.describe()"
      ],
      "metadata": {
        "id": "bWjnyJEYWNYV"
      }
    },
    {
      "cell_type": "markdown",
      "source": [
        "This method will provide various summary statistics, excluding <code>NaN</code> (Not a Number) values.\n"
      ],
      "metadata": {
        "id": "BB5bDkkXWNYV"
      }
    },
    {
      "cell_type": "code",
      "source": [
        "df.describe()"
      ],
      "metadata": {
        "trusted": true,
        "id": "x2IfyLcZWNYV",
        "outputId": "1fd587a8-fef7-4be1-b234-51bbb756fa6f"
      },
      "execution_count": null,
      "outputs": [
        {
          "execution_count": 21,
          "output_type": "execute_result",
          "data": {
            "text/plain": "        symboling  wheel-base      length       width      height  \\\ncount  201.000000  201.000000  201.000000  201.000000  201.000000   \nmean     0.840796   98.797015  174.200995   65.889055   53.766667   \nstd      1.254802    6.066366   12.322175    2.101471    2.447822   \nmin     -2.000000   86.600000  141.100000   60.300000   47.800000   \n25%      0.000000   94.500000  166.800000   64.100000   52.000000   \n50%      1.000000   97.000000  173.200000   65.500000   54.100000   \n75%      2.000000  102.400000  183.500000   66.600000   55.500000   \nmax      3.000000  120.900000  208.100000   72.000000   59.800000   \n\n       curb-weight  engine-size  compression-ratio    city-mpg  highway-mpg  \ncount   201.000000   201.000000         201.000000  201.000000   201.000000  \nmean   2555.666667   126.875622          10.164279   25.179104    30.686567  \nstd     517.296727    41.546834           4.004965    6.423220     6.815150  \nmin    1488.000000    61.000000           7.000000   13.000000    16.000000  \n25%    2169.000000    98.000000           8.600000   19.000000    25.000000  \n50%    2414.000000   120.000000           9.000000   24.000000    30.000000  \n75%    2926.000000   141.000000           9.400000   30.000000    34.000000  \nmax    4066.000000   326.000000          23.000000   49.000000    54.000000  ",
            "text/html": "<div>\n<style scoped>\n    .dataframe tbody tr th:only-of-type {\n        vertical-align: middle;\n    }\n\n    .dataframe tbody tr th {\n        vertical-align: top;\n    }\n\n    .dataframe thead th {\n        text-align: right;\n    }\n</style>\n<table border=\"1\" class=\"dataframe\">\n  <thead>\n    <tr style=\"text-align: right;\">\n      <th></th>\n      <th>symboling</th>\n      <th>wheel-base</th>\n      <th>length</th>\n      <th>width</th>\n      <th>height</th>\n      <th>curb-weight</th>\n      <th>engine-size</th>\n      <th>compression-ratio</th>\n      <th>city-mpg</th>\n      <th>highway-mpg</th>\n    </tr>\n  </thead>\n  <tbody>\n    <tr>\n      <th>count</th>\n      <td>201.000000</td>\n      <td>201.000000</td>\n      <td>201.000000</td>\n      <td>201.000000</td>\n      <td>201.000000</td>\n      <td>201.000000</td>\n      <td>201.000000</td>\n      <td>201.000000</td>\n      <td>201.000000</td>\n      <td>201.000000</td>\n    </tr>\n    <tr>\n      <th>mean</th>\n      <td>0.840796</td>\n      <td>98.797015</td>\n      <td>174.200995</td>\n      <td>65.889055</td>\n      <td>53.766667</td>\n      <td>2555.666667</td>\n      <td>126.875622</td>\n      <td>10.164279</td>\n      <td>25.179104</td>\n      <td>30.686567</td>\n    </tr>\n    <tr>\n      <th>std</th>\n      <td>1.254802</td>\n      <td>6.066366</td>\n      <td>12.322175</td>\n      <td>2.101471</td>\n      <td>2.447822</td>\n      <td>517.296727</td>\n      <td>41.546834</td>\n      <td>4.004965</td>\n      <td>6.423220</td>\n      <td>6.815150</td>\n    </tr>\n    <tr>\n      <th>min</th>\n      <td>-2.000000</td>\n      <td>86.600000</td>\n      <td>141.100000</td>\n      <td>60.300000</td>\n      <td>47.800000</td>\n      <td>1488.000000</td>\n      <td>61.000000</td>\n      <td>7.000000</td>\n      <td>13.000000</td>\n      <td>16.000000</td>\n    </tr>\n    <tr>\n      <th>25%</th>\n      <td>0.000000</td>\n      <td>94.500000</td>\n      <td>166.800000</td>\n      <td>64.100000</td>\n      <td>52.000000</td>\n      <td>2169.000000</td>\n      <td>98.000000</td>\n      <td>8.600000</td>\n      <td>19.000000</td>\n      <td>25.000000</td>\n    </tr>\n    <tr>\n      <th>50%</th>\n      <td>1.000000</td>\n      <td>97.000000</td>\n      <td>173.200000</td>\n      <td>65.500000</td>\n      <td>54.100000</td>\n      <td>2414.000000</td>\n      <td>120.000000</td>\n      <td>9.000000</td>\n      <td>24.000000</td>\n      <td>30.000000</td>\n    </tr>\n    <tr>\n      <th>75%</th>\n      <td>2.000000</td>\n      <td>102.400000</td>\n      <td>183.500000</td>\n      <td>66.600000</td>\n      <td>55.500000</td>\n      <td>2926.000000</td>\n      <td>141.000000</td>\n      <td>9.400000</td>\n      <td>30.000000</td>\n      <td>34.000000</td>\n    </tr>\n    <tr>\n      <th>max</th>\n      <td>3.000000</td>\n      <td>120.900000</td>\n      <td>208.100000</td>\n      <td>72.000000</td>\n      <td>59.800000</td>\n      <td>4066.000000</td>\n      <td>326.000000</td>\n      <td>23.000000</td>\n      <td>49.000000</td>\n      <td>54.000000</td>\n    </tr>\n  </tbody>\n</table>\n</div>"
          },
          "metadata": {}
        }
      ]
    },
    {
      "cell_type": "markdown",
      "source": [
        "<p>\n",
        "This shows the statistical summary of all numeric-typed (int, float) columns.<br>\n",
        "\n",
        "For example, the attribute \"symboling\" has 205 counts, the mean value of this column is 0.83, the standard deviation is 1.25, the minimum value is -2, 25th percentile is 0, 50th percentile is 1, 75th percentile is 2, and the maximum value is 3. <br>\n",
        "\n",
        "However, what if we would also like to check all the columns including those that are of type object? <br><br>\n",
        "\n",
        "You can add an argument <code>include = \"all\"</code> inside the bracket. Let's try it again.\n",
        "\n",
        "</p>\n"
      ],
      "metadata": {
        "id": "VJXCwgpcWNYW"
      }
    },
    {
      "cell_type": "code",
      "source": [
        "# describe all the columns in \"df\" \n",
        "df.describe(include = \"all\")"
      ],
      "metadata": {
        "trusted": true,
        "id": "ZNEoA1goWNYW",
        "outputId": "0781cf02-e768-4421-c4fd-32e6c5b0c3b2"
      },
      "execution_count": null,
      "outputs": [
        {
          "execution_count": 22,
          "output_type": "execute_result",
          "data": {
            "text/plain": "         symboling normalized-losses    make fuel-type aspiration  \\\ncount   201.000000               164     201       201        201   \nunique         NaN                51      22         2          2   \ntop            NaN               161  toyota       gas        std   \nfreq           NaN                11      32       181        165   \nmean      0.840796               NaN     NaN       NaN        NaN   \nstd       1.254802               NaN     NaN       NaN        NaN   \nmin      -2.000000               NaN     NaN       NaN        NaN   \n25%       0.000000               NaN     NaN       NaN        NaN   \n50%       1.000000               NaN     NaN       NaN        NaN   \n75%       2.000000               NaN     NaN       NaN        NaN   \nmax       3.000000               NaN     NaN       NaN        NaN   \n\n       num-of-doors body-style drive-wheels engine-location  wheel-base  ...  \\\ncount           199        201          201             201  201.000000  ...   \nunique            2          5            3               2         NaN  ...   \ntop            four      sedan          fwd           front         NaN  ...   \nfreq            113         94          118             198         NaN  ...   \nmean            NaN        NaN          NaN             NaN   98.797015  ...   \nstd             NaN        NaN          NaN             NaN    6.066366  ...   \nmin             NaN        NaN          NaN             NaN   86.600000  ...   \n25%             NaN        NaN          NaN             NaN   94.500000  ...   \n50%             NaN        NaN          NaN             NaN   97.000000  ...   \n75%             NaN        NaN          NaN             NaN  102.400000  ...   \nmax             NaN        NaN          NaN             NaN  120.900000  ...   \n\n        engine-size  fuel-system  bore  stroke compression-ratio horsepower  \\\ncount    201.000000          201   197     197        201.000000        199   \nunique          NaN            8    38      36               NaN         58   \ntop             NaN         mpfi  3.62    3.40               NaN         68   \nfreq            NaN           92    23      19               NaN         19   \nmean     126.875622          NaN   NaN     NaN         10.164279        NaN   \nstd       41.546834          NaN   NaN     NaN          4.004965        NaN   \nmin       61.000000          NaN   NaN     NaN          7.000000        NaN   \n25%       98.000000          NaN   NaN     NaN          8.600000        NaN   \n50%      120.000000          NaN   NaN     NaN          9.000000        NaN   \n75%      141.000000          NaN   NaN     NaN          9.400000        NaN   \nmax      326.000000          NaN   NaN     NaN         23.000000        NaN   \n\n        peak-rpm    city-mpg highway-mpg price  \ncount        199  201.000000  201.000000   201  \nunique        22         NaN         NaN   186  \ntop         5500         NaN         NaN  8921  \nfreq          36         NaN         NaN     2  \nmean         NaN   25.179104   30.686567   NaN  \nstd          NaN    6.423220    6.815150   NaN  \nmin          NaN   13.000000   16.000000   NaN  \n25%          NaN   19.000000   25.000000   NaN  \n50%          NaN   24.000000   30.000000   NaN  \n75%          NaN   30.000000   34.000000   NaN  \nmax          NaN   49.000000   54.000000   NaN  \n\n[11 rows x 26 columns]",
            "text/html": "<div>\n<style scoped>\n    .dataframe tbody tr th:only-of-type {\n        vertical-align: middle;\n    }\n\n    .dataframe tbody tr th {\n        vertical-align: top;\n    }\n\n    .dataframe thead th {\n        text-align: right;\n    }\n</style>\n<table border=\"1\" class=\"dataframe\">\n  <thead>\n    <tr style=\"text-align: right;\">\n      <th></th>\n      <th>symboling</th>\n      <th>normalized-losses</th>\n      <th>make</th>\n      <th>fuel-type</th>\n      <th>aspiration</th>\n      <th>num-of-doors</th>\n      <th>body-style</th>\n      <th>drive-wheels</th>\n      <th>engine-location</th>\n      <th>wheel-base</th>\n      <th>...</th>\n      <th>engine-size</th>\n      <th>fuel-system</th>\n      <th>bore</th>\n      <th>stroke</th>\n      <th>compression-ratio</th>\n      <th>horsepower</th>\n      <th>peak-rpm</th>\n      <th>city-mpg</th>\n      <th>highway-mpg</th>\n      <th>price</th>\n    </tr>\n  </thead>\n  <tbody>\n    <tr>\n      <th>count</th>\n      <td>201.000000</td>\n      <td>164</td>\n      <td>201</td>\n      <td>201</td>\n      <td>201</td>\n      <td>199</td>\n      <td>201</td>\n      <td>201</td>\n      <td>201</td>\n      <td>201.000000</td>\n      <td>...</td>\n      <td>201.000000</td>\n      <td>201</td>\n      <td>197</td>\n      <td>197</td>\n      <td>201.000000</td>\n      <td>199</td>\n      <td>199</td>\n      <td>201.000000</td>\n      <td>201.000000</td>\n      <td>201</td>\n    </tr>\n    <tr>\n      <th>unique</th>\n      <td>NaN</td>\n      <td>51</td>\n      <td>22</td>\n      <td>2</td>\n      <td>2</td>\n      <td>2</td>\n      <td>5</td>\n      <td>3</td>\n      <td>2</td>\n      <td>NaN</td>\n      <td>...</td>\n      <td>NaN</td>\n      <td>8</td>\n      <td>38</td>\n      <td>36</td>\n      <td>NaN</td>\n      <td>58</td>\n      <td>22</td>\n      <td>NaN</td>\n      <td>NaN</td>\n      <td>186</td>\n    </tr>\n    <tr>\n      <th>top</th>\n      <td>NaN</td>\n      <td>161</td>\n      <td>toyota</td>\n      <td>gas</td>\n      <td>std</td>\n      <td>four</td>\n      <td>sedan</td>\n      <td>fwd</td>\n      <td>front</td>\n      <td>NaN</td>\n      <td>...</td>\n      <td>NaN</td>\n      <td>mpfi</td>\n      <td>3.62</td>\n      <td>3.40</td>\n      <td>NaN</td>\n      <td>68</td>\n      <td>5500</td>\n      <td>NaN</td>\n      <td>NaN</td>\n      <td>8921</td>\n    </tr>\n    <tr>\n      <th>freq</th>\n      <td>NaN</td>\n      <td>11</td>\n      <td>32</td>\n      <td>181</td>\n      <td>165</td>\n      <td>113</td>\n      <td>94</td>\n      <td>118</td>\n      <td>198</td>\n      <td>NaN</td>\n      <td>...</td>\n      <td>NaN</td>\n      <td>92</td>\n      <td>23</td>\n      <td>19</td>\n      <td>NaN</td>\n      <td>19</td>\n      <td>36</td>\n      <td>NaN</td>\n      <td>NaN</td>\n      <td>2</td>\n    </tr>\n    <tr>\n      <th>mean</th>\n      <td>0.840796</td>\n      <td>NaN</td>\n      <td>NaN</td>\n      <td>NaN</td>\n      <td>NaN</td>\n      <td>NaN</td>\n      <td>NaN</td>\n      <td>NaN</td>\n      <td>NaN</td>\n      <td>98.797015</td>\n      <td>...</td>\n      <td>126.875622</td>\n      <td>NaN</td>\n      <td>NaN</td>\n      <td>NaN</td>\n      <td>10.164279</td>\n      <td>NaN</td>\n      <td>NaN</td>\n      <td>25.179104</td>\n      <td>30.686567</td>\n      <td>NaN</td>\n    </tr>\n    <tr>\n      <th>std</th>\n      <td>1.254802</td>\n      <td>NaN</td>\n      <td>NaN</td>\n      <td>NaN</td>\n      <td>NaN</td>\n      <td>NaN</td>\n      <td>NaN</td>\n      <td>NaN</td>\n      <td>NaN</td>\n      <td>6.066366</td>\n      <td>...</td>\n      <td>41.546834</td>\n      <td>NaN</td>\n      <td>NaN</td>\n      <td>NaN</td>\n      <td>4.004965</td>\n      <td>NaN</td>\n      <td>NaN</td>\n      <td>6.423220</td>\n      <td>6.815150</td>\n      <td>NaN</td>\n    </tr>\n    <tr>\n      <th>min</th>\n      <td>-2.000000</td>\n      <td>NaN</td>\n      <td>NaN</td>\n      <td>NaN</td>\n      <td>NaN</td>\n      <td>NaN</td>\n      <td>NaN</td>\n      <td>NaN</td>\n      <td>NaN</td>\n      <td>86.600000</td>\n      <td>...</td>\n      <td>61.000000</td>\n      <td>NaN</td>\n      <td>NaN</td>\n      <td>NaN</td>\n      <td>7.000000</td>\n      <td>NaN</td>\n      <td>NaN</td>\n      <td>13.000000</td>\n      <td>16.000000</td>\n      <td>NaN</td>\n    </tr>\n    <tr>\n      <th>25%</th>\n      <td>0.000000</td>\n      <td>NaN</td>\n      <td>NaN</td>\n      <td>NaN</td>\n      <td>NaN</td>\n      <td>NaN</td>\n      <td>NaN</td>\n      <td>NaN</td>\n      <td>NaN</td>\n      <td>94.500000</td>\n      <td>...</td>\n      <td>98.000000</td>\n      <td>NaN</td>\n      <td>NaN</td>\n      <td>NaN</td>\n      <td>8.600000</td>\n      <td>NaN</td>\n      <td>NaN</td>\n      <td>19.000000</td>\n      <td>25.000000</td>\n      <td>NaN</td>\n    </tr>\n    <tr>\n      <th>50%</th>\n      <td>1.000000</td>\n      <td>NaN</td>\n      <td>NaN</td>\n      <td>NaN</td>\n      <td>NaN</td>\n      <td>NaN</td>\n      <td>NaN</td>\n      <td>NaN</td>\n      <td>NaN</td>\n      <td>97.000000</td>\n      <td>...</td>\n      <td>120.000000</td>\n      <td>NaN</td>\n      <td>NaN</td>\n      <td>NaN</td>\n      <td>9.000000</td>\n      <td>NaN</td>\n      <td>NaN</td>\n      <td>24.000000</td>\n      <td>30.000000</td>\n      <td>NaN</td>\n    </tr>\n    <tr>\n      <th>75%</th>\n      <td>2.000000</td>\n      <td>NaN</td>\n      <td>NaN</td>\n      <td>NaN</td>\n      <td>NaN</td>\n      <td>NaN</td>\n      <td>NaN</td>\n      <td>NaN</td>\n      <td>NaN</td>\n      <td>102.400000</td>\n      <td>...</td>\n      <td>141.000000</td>\n      <td>NaN</td>\n      <td>NaN</td>\n      <td>NaN</td>\n      <td>9.400000</td>\n      <td>NaN</td>\n      <td>NaN</td>\n      <td>30.000000</td>\n      <td>34.000000</td>\n      <td>NaN</td>\n    </tr>\n    <tr>\n      <th>max</th>\n      <td>3.000000</td>\n      <td>NaN</td>\n      <td>NaN</td>\n      <td>NaN</td>\n      <td>NaN</td>\n      <td>NaN</td>\n      <td>NaN</td>\n      <td>NaN</td>\n      <td>NaN</td>\n      <td>120.900000</td>\n      <td>...</td>\n      <td>326.000000</td>\n      <td>NaN</td>\n      <td>NaN</td>\n      <td>NaN</td>\n      <td>23.000000</td>\n      <td>NaN</td>\n      <td>NaN</td>\n      <td>49.000000</td>\n      <td>54.000000</td>\n      <td>NaN</td>\n    </tr>\n  </tbody>\n</table>\n<p>11 rows × 26 columns</p>\n</div>"
          },
          "metadata": {}
        }
      ]
    },
    {
      "cell_type": "markdown",
      "source": [
        "<p>\n",
        "Now it provides the statistical summary of all the columns, including object-typed attributes.<br>\n",
        "\n",
        "We can now see how many unique values there, which one is the top value and the frequency of top value in the object-typed columns.<br>\n",
        "\n",
        "Some values in the table above show as \"NaN\". This is because those numbers are not available regarding a particular column type.<br>\n",
        "\n",
        "</p>\n"
      ],
      "metadata": {
        "id": "WuVjpU-cWNYW"
      }
    },
    {
      "cell_type": "markdown",
      "source": [
        "<div class=\"alert alert-danger alertdanger\" style=\"margin-top: 20px\">\n",
        "<h1> Question #3: </h1>\n",
        "\n",
        "<p>\n",
        "You can select the columns of a dataframe by indicating the name of each column. For example, you can select the three columns as follows:\n",
        "</p>\n",
        "<p>\n",
        "    <code>dataframe[[' column 1 ',column 2', 'column 3']]</code>\n",
        "</p>\n",
        "<p>\n",
        "Where \"column\" is the name of the column, you can apply the method  \".describe()\" to get the statistics of those columns as follows:\n",
        "</p>\n",
        "<p>\n",
        "    <code>dataframe[[' column 1 ',column 2', 'column 3'] ].describe()</code>\n",
        "</p>\n",
        "\n",
        "Apply the  method to \".describe()\" to the columns 'length' and 'compression-ratio'.\n",
        "\n",
        "</div>\n"
      ],
      "metadata": {
        "id": "Q0datGgNWNYX"
      }
    },
    {
      "cell_type": "code",
      "source": [
        "# Write your code below and press Shift+Enter to execute \n",
        "df[['length', 'compression-ratio']].describe()"
      ],
      "metadata": {
        "trusted": true,
        "id": "i6ZdOu4-WNYX",
        "outputId": "7a1f31d4-ed3d-4499-e14e-731ff16689c8"
      },
      "execution_count": null,
      "outputs": [
        {
          "execution_count": 23,
          "output_type": "execute_result",
          "data": {
            "text/plain": "           length  compression-ratio\ncount  201.000000         201.000000\nmean   174.200995          10.164279\nstd     12.322175           4.004965\nmin    141.100000           7.000000\n25%    166.800000           8.600000\n50%    173.200000           9.000000\n75%    183.500000           9.400000\nmax    208.100000          23.000000",
            "text/html": "<div>\n<style scoped>\n    .dataframe tbody tr th:only-of-type {\n        vertical-align: middle;\n    }\n\n    .dataframe tbody tr th {\n        vertical-align: top;\n    }\n\n    .dataframe thead th {\n        text-align: right;\n    }\n</style>\n<table border=\"1\" class=\"dataframe\">\n  <thead>\n    <tr style=\"text-align: right;\">\n      <th></th>\n      <th>length</th>\n      <th>compression-ratio</th>\n    </tr>\n  </thead>\n  <tbody>\n    <tr>\n      <th>count</th>\n      <td>201.000000</td>\n      <td>201.000000</td>\n    </tr>\n    <tr>\n      <th>mean</th>\n      <td>174.200995</td>\n      <td>10.164279</td>\n    </tr>\n    <tr>\n      <th>std</th>\n      <td>12.322175</td>\n      <td>4.004965</td>\n    </tr>\n    <tr>\n      <th>min</th>\n      <td>141.100000</td>\n      <td>7.000000</td>\n    </tr>\n    <tr>\n      <th>25%</th>\n      <td>166.800000</td>\n      <td>8.600000</td>\n    </tr>\n    <tr>\n      <th>50%</th>\n      <td>173.200000</td>\n      <td>9.000000</td>\n    </tr>\n    <tr>\n      <th>75%</th>\n      <td>183.500000</td>\n      <td>9.400000</td>\n    </tr>\n    <tr>\n      <th>max</th>\n      <td>208.100000</td>\n      <td>23.000000</td>\n    </tr>\n  </tbody>\n</table>\n</div>"
          },
          "metadata": {}
        }
      ]
    },
    {
      "cell_type": "markdown",
      "source": [
        "<h2>Info</h2>\n",
        "Another method you can use to check your dataset is:\n"
      ],
      "metadata": {
        "id": "0kOIifHCWNYX"
      }
    },
    {
      "cell_type": "raw",
      "source": [
        "dataframe.info()"
      ],
      "metadata": {
        "id": "4LvR6xo_WNYX"
      }
    },
    {
      "cell_type": "markdown",
      "source": [
        "It provides a concise summary of your DataFrame.\n",
        "\n",
        "This method prints information about a DataFrame including the index dtype and columns, non-null values and memory usage.\n"
      ],
      "metadata": {
        "id": "3828lwS9WNYX"
      }
    },
    {
      "cell_type": "code",
      "source": [
        "# look at the info of \"df\"\n",
        "df.info()"
      ],
      "metadata": {
        "trusted": true,
        "id": "auj5moCtWNYX",
        "outputId": "d52966e3-b9c5-4769-b87d-b4fbffa75afd"
      },
      "execution_count": null,
      "outputs": [
        {
          "name": "stdout",
          "text": "<class 'pandas.core.frame.DataFrame'>\nInt64Index: 201 entries, 0 to 204\nData columns (total 26 columns):\n #   Column             Non-Null Count  Dtype  \n---  ------             --------------  -----  \n 0   symboling          201 non-null    int64  \n 1   normalized-losses  164 non-null    object \n 2   make               201 non-null    object \n 3   fuel-type          201 non-null    object \n 4   aspiration         201 non-null    object \n 5   num-of-doors       199 non-null    object \n 6   body-style         201 non-null    object \n 7   drive-wheels       201 non-null    object \n 8   engine-location    201 non-null    object \n 9   wheel-base         201 non-null    float64\n 10  length             201 non-null    float64\n 11  width              201 non-null    float64\n 12  height             201 non-null    float64\n 13  curb-weight        201 non-null    int64  \n 14  engine-type        201 non-null    object \n 15  num-of-cylinders   201 non-null    object \n 16  engine-size        201 non-null    int64  \n 17  fuel-system        201 non-null    object \n 18  bore               197 non-null    object \n 19  stroke             197 non-null    object \n 20  compression-ratio  201 non-null    float64\n 21  horsepower         199 non-null    object \n 22  peak-rpm           199 non-null    object \n 23  city-mpg           201 non-null    int64  \n 24  highway-mpg        201 non-null    int64  \n 25  price              201 non-null    object \ndtypes: float64(5), int64(5), object(16)\nmemory usage: 29.8+ KB\n",
          "output_type": "stream"
        }
      ]
    }
  ]
}